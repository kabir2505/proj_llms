{
  "nbformat": 4,
  "nbformat_minor": 0,
  "metadata": {
    "colab": {
      "provenance": [],
      "gpuType": "T4"
    },
    "kernelspec": {
      "name": "python3",
      "display_name": "Python 3"
    },
    "language_info": {
      "name": "python"
    },
    "accelerator": "GPU",
    "widgets": {
      "application/vnd.jupyter.widget-state+json": {
        "ba27d30aa3474d73959f00b7aea53845": {
          "model_module": "@jupyter-widgets/controls",
          "model_name": "HBoxModel",
          "model_module_version": "1.5.0",
          "state": {
            "_dom_classes": [],
            "_model_module": "@jupyter-widgets/controls",
            "_model_module_version": "1.5.0",
            "_model_name": "HBoxModel",
            "_view_count": null,
            "_view_module": "@jupyter-widgets/controls",
            "_view_module_version": "1.5.0",
            "_view_name": "HBoxView",
            "box_style": "",
            "children": [
              "IPY_MODEL_9141945a194e488a9c89ba0356a25b97",
              "IPY_MODEL_e20db84e95864030b1d4be6d7937f50f",
              "IPY_MODEL_5828c0b3f44b461993553f3e9bf184e8"
            ],
            "layout": "IPY_MODEL_d806e05615384b048853bde4ea731196"
          }
        },
        "9141945a194e488a9c89ba0356a25b97": {
          "model_module": "@jupyter-widgets/controls",
          "model_name": "HTMLModel",
          "model_module_version": "1.5.0",
          "state": {
            "_dom_classes": [],
            "_model_module": "@jupyter-widgets/controls",
            "_model_module_version": "1.5.0",
            "_model_name": "HTMLModel",
            "_view_count": null,
            "_view_module": "@jupyter-widgets/controls",
            "_view_module_version": "1.5.0",
            "_view_name": "HTMLView",
            "description": "",
            "description_tooltip": null,
            "layout": "IPY_MODEL_9b930bdf75a843f4a33dab2e6707716b",
            "placeholder": "​",
            "style": "IPY_MODEL_8c3b322991c84cc6bc8758d07c8ddac1",
            "value": "config.json: 100%"
          }
        },
        "e20db84e95864030b1d4be6d7937f50f": {
          "model_module": "@jupyter-widgets/controls",
          "model_name": "FloatProgressModel",
          "model_module_version": "1.5.0",
          "state": {
            "_dom_classes": [],
            "_model_module": "@jupyter-widgets/controls",
            "_model_module_version": "1.5.0",
            "_model_name": "FloatProgressModel",
            "_view_count": null,
            "_view_module": "@jupyter-widgets/controls",
            "_view_module_version": "1.5.0",
            "_view_name": "ProgressView",
            "bar_style": "success",
            "description": "",
            "description_tooltip": null,
            "layout": "IPY_MODEL_aa37379b0f1047bdbc12b3914a46025e",
            "max": 665,
            "min": 0,
            "orientation": "horizontal",
            "style": "IPY_MODEL_79952b02cbae472498eafafa8ab43bd1",
            "value": 665
          }
        },
        "5828c0b3f44b461993553f3e9bf184e8": {
          "model_module": "@jupyter-widgets/controls",
          "model_name": "HTMLModel",
          "model_module_version": "1.5.0",
          "state": {
            "_dom_classes": [],
            "_model_module": "@jupyter-widgets/controls",
            "_model_module_version": "1.5.0",
            "_model_name": "HTMLModel",
            "_view_count": null,
            "_view_module": "@jupyter-widgets/controls",
            "_view_module_version": "1.5.0",
            "_view_name": "HTMLView",
            "description": "",
            "description_tooltip": null,
            "layout": "IPY_MODEL_753b7827cdff4b1481f43c8294937f4a",
            "placeholder": "​",
            "style": "IPY_MODEL_8d5c1c50c9174841b776b9bb3d2fe0e8",
            "value": " 665/665 [00:00&lt;00:00, 44.6kB/s]"
          }
        },
        "d806e05615384b048853bde4ea731196": {
          "model_module": "@jupyter-widgets/base",
          "model_name": "LayoutModel",
          "model_module_version": "1.2.0",
          "state": {
            "_model_module": "@jupyter-widgets/base",
            "_model_module_version": "1.2.0",
            "_model_name": "LayoutModel",
            "_view_count": null,
            "_view_module": "@jupyter-widgets/base",
            "_view_module_version": "1.2.0",
            "_view_name": "LayoutView",
            "align_content": null,
            "align_items": null,
            "align_self": null,
            "border": null,
            "bottom": null,
            "display": null,
            "flex": null,
            "flex_flow": null,
            "grid_area": null,
            "grid_auto_columns": null,
            "grid_auto_flow": null,
            "grid_auto_rows": null,
            "grid_column": null,
            "grid_gap": null,
            "grid_row": null,
            "grid_template_areas": null,
            "grid_template_columns": null,
            "grid_template_rows": null,
            "height": null,
            "justify_content": null,
            "justify_items": null,
            "left": null,
            "margin": null,
            "max_height": null,
            "max_width": null,
            "min_height": null,
            "min_width": null,
            "object_fit": null,
            "object_position": null,
            "order": null,
            "overflow": null,
            "overflow_x": null,
            "overflow_y": null,
            "padding": null,
            "right": null,
            "top": null,
            "visibility": null,
            "width": null
          }
        },
        "9b930bdf75a843f4a33dab2e6707716b": {
          "model_module": "@jupyter-widgets/base",
          "model_name": "LayoutModel",
          "model_module_version": "1.2.0",
          "state": {
            "_model_module": "@jupyter-widgets/base",
            "_model_module_version": "1.2.0",
            "_model_name": "LayoutModel",
            "_view_count": null,
            "_view_module": "@jupyter-widgets/base",
            "_view_module_version": "1.2.0",
            "_view_name": "LayoutView",
            "align_content": null,
            "align_items": null,
            "align_self": null,
            "border": null,
            "bottom": null,
            "display": null,
            "flex": null,
            "flex_flow": null,
            "grid_area": null,
            "grid_auto_columns": null,
            "grid_auto_flow": null,
            "grid_auto_rows": null,
            "grid_column": null,
            "grid_gap": null,
            "grid_row": null,
            "grid_template_areas": null,
            "grid_template_columns": null,
            "grid_template_rows": null,
            "height": null,
            "justify_content": null,
            "justify_items": null,
            "left": null,
            "margin": null,
            "max_height": null,
            "max_width": null,
            "min_height": null,
            "min_width": null,
            "object_fit": null,
            "object_position": null,
            "order": null,
            "overflow": null,
            "overflow_x": null,
            "overflow_y": null,
            "padding": null,
            "right": null,
            "top": null,
            "visibility": null,
            "width": null
          }
        },
        "8c3b322991c84cc6bc8758d07c8ddac1": {
          "model_module": "@jupyter-widgets/controls",
          "model_name": "DescriptionStyleModel",
          "model_module_version": "1.5.0",
          "state": {
            "_model_module": "@jupyter-widgets/controls",
            "_model_module_version": "1.5.0",
            "_model_name": "DescriptionStyleModel",
            "_view_count": null,
            "_view_module": "@jupyter-widgets/base",
            "_view_module_version": "1.2.0",
            "_view_name": "StyleView",
            "description_width": ""
          }
        },
        "aa37379b0f1047bdbc12b3914a46025e": {
          "model_module": "@jupyter-widgets/base",
          "model_name": "LayoutModel",
          "model_module_version": "1.2.0",
          "state": {
            "_model_module": "@jupyter-widgets/base",
            "_model_module_version": "1.2.0",
            "_model_name": "LayoutModel",
            "_view_count": null,
            "_view_module": "@jupyter-widgets/base",
            "_view_module_version": "1.2.0",
            "_view_name": "LayoutView",
            "align_content": null,
            "align_items": null,
            "align_self": null,
            "border": null,
            "bottom": null,
            "display": null,
            "flex": null,
            "flex_flow": null,
            "grid_area": null,
            "grid_auto_columns": null,
            "grid_auto_flow": null,
            "grid_auto_rows": null,
            "grid_column": null,
            "grid_gap": null,
            "grid_row": null,
            "grid_template_areas": null,
            "grid_template_columns": null,
            "grid_template_rows": null,
            "height": null,
            "justify_content": null,
            "justify_items": null,
            "left": null,
            "margin": null,
            "max_height": null,
            "max_width": null,
            "min_height": null,
            "min_width": null,
            "object_fit": null,
            "object_position": null,
            "order": null,
            "overflow": null,
            "overflow_x": null,
            "overflow_y": null,
            "padding": null,
            "right": null,
            "top": null,
            "visibility": null,
            "width": null
          }
        },
        "79952b02cbae472498eafafa8ab43bd1": {
          "model_module": "@jupyter-widgets/controls",
          "model_name": "ProgressStyleModel",
          "model_module_version": "1.5.0",
          "state": {
            "_model_module": "@jupyter-widgets/controls",
            "_model_module_version": "1.5.0",
            "_model_name": "ProgressStyleModel",
            "_view_count": null,
            "_view_module": "@jupyter-widgets/base",
            "_view_module_version": "1.2.0",
            "_view_name": "StyleView",
            "bar_color": null,
            "description_width": ""
          }
        },
        "753b7827cdff4b1481f43c8294937f4a": {
          "model_module": "@jupyter-widgets/base",
          "model_name": "LayoutModel",
          "model_module_version": "1.2.0",
          "state": {
            "_model_module": "@jupyter-widgets/base",
            "_model_module_version": "1.2.0",
            "_model_name": "LayoutModel",
            "_view_count": null,
            "_view_module": "@jupyter-widgets/base",
            "_view_module_version": "1.2.0",
            "_view_name": "LayoutView",
            "align_content": null,
            "align_items": null,
            "align_self": null,
            "border": null,
            "bottom": null,
            "display": null,
            "flex": null,
            "flex_flow": null,
            "grid_area": null,
            "grid_auto_columns": null,
            "grid_auto_flow": null,
            "grid_auto_rows": null,
            "grid_column": null,
            "grid_gap": null,
            "grid_row": null,
            "grid_template_areas": null,
            "grid_template_columns": null,
            "grid_template_rows": null,
            "height": null,
            "justify_content": null,
            "justify_items": null,
            "left": null,
            "margin": null,
            "max_height": null,
            "max_width": null,
            "min_height": null,
            "min_width": null,
            "object_fit": null,
            "object_position": null,
            "order": null,
            "overflow": null,
            "overflow_x": null,
            "overflow_y": null,
            "padding": null,
            "right": null,
            "top": null,
            "visibility": null,
            "width": null
          }
        },
        "8d5c1c50c9174841b776b9bb3d2fe0e8": {
          "model_module": "@jupyter-widgets/controls",
          "model_name": "DescriptionStyleModel",
          "model_module_version": "1.5.0",
          "state": {
            "_model_module": "@jupyter-widgets/controls",
            "_model_module_version": "1.5.0",
            "_model_name": "DescriptionStyleModel",
            "_view_count": null,
            "_view_module": "@jupyter-widgets/base",
            "_view_module_version": "1.2.0",
            "_view_name": "StyleView",
            "description_width": ""
          }
        },
        "f95148d15ac3441db8ffe8a0ece6b878": {
          "model_module": "@jupyter-widgets/controls",
          "model_name": "HBoxModel",
          "model_module_version": "1.5.0",
          "state": {
            "_dom_classes": [],
            "_model_module": "@jupyter-widgets/controls",
            "_model_module_version": "1.5.0",
            "_model_name": "HBoxModel",
            "_view_count": null,
            "_view_module": "@jupyter-widgets/controls",
            "_view_module_version": "1.5.0",
            "_view_name": "HBoxView",
            "box_style": "",
            "children": [
              "IPY_MODEL_f7bec3f6053d4b5ab1cd0248218e325d",
              "IPY_MODEL_cc5febe6209944ebba44160b9276e360",
              "IPY_MODEL_41260175511f4002b9cdac07c933e7de"
            ],
            "layout": "IPY_MODEL_19194417895c432daf6e9b13fe336ed6"
          }
        },
        "f7bec3f6053d4b5ab1cd0248218e325d": {
          "model_module": "@jupyter-widgets/controls",
          "model_name": "HTMLModel",
          "model_module_version": "1.5.0",
          "state": {
            "_dom_classes": [],
            "_model_module": "@jupyter-widgets/controls",
            "_model_module_version": "1.5.0",
            "_model_name": "HTMLModel",
            "_view_count": null,
            "_view_module": "@jupyter-widgets/controls",
            "_view_module_version": "1.5.0",
            "_view_name": "HTMLView",
            "description": "",
            "description_tooltip": null,
            "layout": "IPY_MODEL_7011d6b76570418aa864763518b59353",
            "placeholder": "​",
            "style": "IPY_MODEL_c4e2ac93a9ea440aafeafbe1862f29a0",
            "value": "model.safetensors: 100%"
          }
        },
        "cc5febe6209944ebba44160b9276e360": {
          "model_module": "@jupyter-widgets/controls",
          "model_name": "FloatProgressModel",
          "model_module_version": "1.5.0",
          "state": {
            "_dom_classes": [],
            "_model_module": "@jupyter-widgets/controls",
            "_model_module_version": "1.5.0",
            "_model_name": "FloatProgressModel",
            "_view_count": null,
            "_view_module": "@jupyter-widgets/controls",
            "_view_module_version": "1.5.0",
            "_view_name": "ProgressView",
            "bar_style": "success",
            "description": "",
            "description_tooltip": null,
            "layout": "IPY_MODEL_ff82cd3469d04dcab129687ddc3b7a9c",
            "max": 548105171,
            "min": 0,
            "orientation": "horizontal",
            "style": "IPY_MODEL_61bbebc5bd6d41c4b1385b3e42f2250d",
            "value": 548105171
          }
        },
        "41260175511f4002b9cdac07c933e7de": {
          "model_module": "@jupyter-widgets/controls",
          "model_name": "HTMLModel",
          "model_module_version": "1.5.0",
          "state": {
            "_dom_classes": [],
            "_model_module": "@jupyter-widgets/controls",
            "_model_module_version": "1.5.0",
            "_model_name": "HTMLModel",
            "_view_count": null,
            "_view_module": "@jupyter-widgets/controls",
            "_view_module_version": "1.5.0",
            "_view_name": "HTMLView",
            "description": "",
            "description_tooltip": null,
            "layout": "IPY_MODEL_c065dab5d6044a84aa0dde5d8f963151",
            "placeholder": "​",
            "style": "IPY_MODEL_19297fb7737c4d75b554861848d74ead",
            "value": " 548M/548M [00:02&lt;00:00, 224MB/s]"
          }
        },
        "19194417895c432daf6e9b13fe336ed6": {
          "model_module": "@jupyter-widgets/base",
          "model_name": "LayoutModel",
          "model_module_version": "1.2.0",
          "state": {
            "_model_module": "@jupyter-widgets/base",
            "_model_module_version": "1.2.0",
            "_model_name": "LayoutModel",
            "_view_count": null,
            "_view_module": "@jupyter-widgets/base",
            "_view_module_version": "1.2.0",
            "_view_name": "LayoutView",
            "align_content": null,
            "align_items": null,
            "align_self": null,
            "border": null,
            "bottom": null,
            "display": null,
            "flex": null,
            "flex_flow": null,
            "grid_area": null,
            "grid_auto_columns": null,
            "grid_auto_flow": null,
            "grid_auto_rows": null,
            "grid_column": null,
            "grid_gap": null,
            "grid_row": null,
            "grid_template_areas": null,
            "grid_template_columns": null,
            "grid_template_rows": null,
            "height": null,
            "justify_content": null,
            "justify_items": null,
            "left": null,
            "margin": null,
            "max_height": null,
            "max_width": null,
            "min_height": null,
            "min_width": null,
            "object_fit": null,
            "object_position": null,
            "order": null,
            "overflow": null,
            "overflow_x": null,
            "overflow_y": null,
            "padding": null,
            "right": null,
            "top": null,
            "visibility": null,
            "width": null
          }
        },
        "7011d6b76570418aa864763518b59353": {
          "model_module": "@jupyter-widgets/base",
          "model_name": "LayoutModel",
          "model_module_version": "1.2.0",
          "state": {
            "_model_module": "@jupyter-widgets/base",
            "_model_module_version": "1.2.0",
            "_model_name": "LayoutModel",
            "_view_count": null,
            "_view_module": "@jupyter-widgets/base",
            "_view_module_version": "1.2.0",
            "_view_name": "LayoutView",
            "align_content": null,
            "align_items": null,
            "align_self": null,
            "border": null,
            "bottom": null,
            "display": null,
            "flex": null,
            "flex_flow": null,
            "grid_area": null,
            "grid_auto_columns": null,
            "grid_auto_flow": null,
            "grid_auto_rows": null,
            "grid_column": null,
            "grid_gap": null,
            "grid_row": null,
            "grid_template_areas": null,
            "grid_template_columns": null,
            "grid_template_rows": null,
            "height": null,
            "justify_content": null,
            "justify_items": null,
            "left": null,
            "margin": null,
            "max_height": null,
            "max_width": null,
            "min_height": null,
            "min_width": null,
            "object_fit": null,
            "object_position": null,
            "order": null,
            "overflow": null,
            "overflow_x": null,
            "overflow_y": null,
            "padding": null,
            "right": null,
            "top": null,
            "visibility": null,
            "width": null
          }
        },
        "c4e2ac93a9ea440aafeafbe1862f29a0": {
          "model_module": "@jupyter-widgets/controls",
          "model_name": "DescriptionStyleModel",
          "model_module_version": "1.5.0",
          "state": {
            "_model_module": "@jupyter-widgets/controls",
            "_model_module_version": "1.5.0",
            "_model_name": "DescriptionStyleModel",
            "_view_count": null,
            "_view_module": "@jupyter-widgets/base",
            "_view_module_version": "1.2.0",
            "_view_name": "StyleView",
            "description_width": ""
          }
        },
        "ff82cd3469d04dcab129687ddc3b7a9c": {
          "model_module": "@jupyter-widgets/base",
          "model_name": "LayoutModel",
          "model_module_version": "1.2.0",
          "state": {
            "_model_module": "@jupyter-widgets/base",
            "_model_module_version": "1.2.0",
            "_model_name": "LayoutModel",
            "_view_count": null,
            "_view_module": "@jupyter-widgets/base",
            "_view_module_version": "1.2.0",
            "_view_name": "LayoutView",
            "align_content": null,
            "align_items": null,
            "align_self": null,
            "border": null,
            "bottom": null,
            "display": null,
            "flex": null,
            "flex_flow": null,
            "grid_area": null,
            "grid_auto_columns": null,
            "grid_auto_flow": null,
            "grid_auto_rows": null,
            "grid_column": null,
            "grid_gap": null,
            "grid_row": null,
            "grid_template_areas": null,
            "grid_template_columns": null,
            "grid_template_rows": null,
            "height": null,
            "justify_content": null,
            "justify_items": null,
            "left": null,
            "margin": null,
            "max_height": null,
            "max_width": null,
            "min_height": null,
            "min_width": null,
            "object_fit": null,
            "object_position": null,
            "order": null,
            "overflow": null,
            "overflow_x": null,
            "overflow_y": null,
            "padding": null,
            "right": null,
            "top": null,
            "visibility": null,
            "width": null
          }
        },
        "61bbebc5bd6d41c4b1385b3e42f2250d": {
          "model_module": "@jupyter-widgets/controls",
          "model_name": "ProgressStyleModel",
          "model_module_version": "1.5.0",
          "state": {
            "_model_module": "@jupyter-widgets/controls",
            "_model_module_version": "1.5.0",
            "_model_name": "ProgressStyleModel",
            "_view_count": null,
            "_view_module": "@jupyter-widgets/base",
            "_view_module_version": "1.2.0",
            "_view_name": "StyleView",
            "bar_color": null,
            "description_width": ""
          }
        },
        "c065dab5d6044a84aa0dde5d8f963151": {
          "model_module": "@jupyter-widgets/base",
          "model_name": "LayoutModel",
          "model_module_version": "1.2.0",
          "state": {
            "_model_module": "@jupyter-widgets/base",
            "_model_module_version": "1.2.0",
            "_model_name": "LayoutModel",
            "_view_count": null,
            "_view_module": "@jupyter-widgets/base",
            "_view_module_version": "1.2.0",
            "_view_name": "LayoutView",
            "align_content": null,
            "align_items": null,
            "align_self": null,
            "border": null,
            "bottom": null,
            "display": null,
            "flex": null,
            "flex_flow": null,
            "grid_area": null,
            "grid_auto_columns": null,
            "grid_auto_flow": null,
            "grid_auto_rows": null,
            "grid_column": null,
            "grid_gap": null,
            "grid_row": null,
            "grid_template_areas": null,
            "grid_template_columns": null,
            "grid_template_rows": null,
            "height": null,
            "justify_content": null,
            "justify_items": null,
            "left": null,
            "margin": null,
            "max_height": null,
            "max_width": null,
            "min_height": null,
            "min_width": null,
            "object_fit": null,
            "object_position": null,
            "order": null,
            "overflow": null,
            "overflow_x": null,
            "overflow_y": null,
            "padding": null,
            "right": null,
            "top": null,
            "visibility": null,
            "width": null
          }
        },
        "19297fb7737c4d75b554861848d74ead": {
          "model_module": "@jupyter-widgets/controls",
          "model_name": "DescriptionStyleModel",
          "model_module_version": "1.5.0",
          "state": {
            "_model_module": "@jupyter-widgets/controls",
            "_model_module_version": "1.5.0",
            "_model_name": "DescriptionStyleModel",
            "_view_count": null,
            "_view_module": "@jupyter-widgets/base",
            "_view_module_version": "1.2.0",
            "_view_name": "StyleView",
            "description_width": ""
          }
        }
      }
    }
  },
  "cells": [
    {
      "cell_type": "code",
      "source": [
        "!pip3 install tiktoken"
      ],
      "metadata": {
        "colab": {
          "base_uri": "https://localhost:8080/"
        },
        "id": "OpHupE40-dzx",
        "outputId": "a6f780a0-0ee4-49f0-b020-7cc24d656c49"
      },
      "execution_count": 1,
      "outputs": [
        {
          "output_type": "stream",
          "name": "stdout",
          "text": [
            "Collecting tiktoken\n",
            "  Downloading tiktoken-0.8.0-cp310-cp310-manylinux_2_17_x86_64.manylinux2014_x86_64.whl.metadata (6.6 kB)\n",
            "Requirement already satisfied: regex>=2022.1.18 in /usr/local/lib/python3.10/dist-packages (from tiktoken) (2024.11.6)\n",
            "Requirement already satisfied: requests>=2.26.0 in /usr/local/lib/python3.10/dist-packages (from tiktoken) (2.32.3)\n",
            "Requirement already satisfied: charset-normalizer<4,>=2 in /usr/local/lib/python3.10/dist-packages (from requests>=2.26.0->tiktoken) (3.4.0)\n",
            "Requirement already satisfied: idna<4,>=2.5 in /usr/local/lib/python3.10/dist-packages (from requests>=2.26.0->tiktoken) (3.10)\n",
            "Requirement already satisfied: urllib3<3,>=1.21.1 in /usr/local/lib/python3.10/dist-packages (from requests>=2.26.0->tiktoken) (2.2.3)\n",
            "Requirement already satisfied: certifi>=2017.4.17 in /usr/local/lib/python3.10/dist-packages (from requests>=2.26.0->tiktoken) (2024.12.14)\n",
            "Downloading tiktoken-0.8.0-cp310-cp310-manylinux_2_17_x86_64.manylinux2014_x86_64.whl (1.2 MB)\n",
            "\u001b[?25l   \u001b[90m━━━━━━━━━━━━━━━━━━━━━━━━━━━━━━━━━━━━━━━━\u001b[0m \u001b[32m0.0/1.2 MB\u001b[0m \u001b[31m?\u001b[0m eta \u001b[36m-:--:--\u001b[0m\r\u001b[2K   \u001b[91m━━━━━━━━━━━━━━━━━━━━\u001b[0m\u001b[90m╺\u001b[0m\u001b[90m━━━━━━━━━━━━━━━━━━━\u001b[0m \u001b[32m0.6/1.2 MB\u001b[0m \u001b[31m19.0 MB/s\u001b[0m eta \u001b[36m0:00:01\u001b[0m\r\u001b[2K   \u001b[90m━━━━━━━━━━━━━━━━━━━━━━━━━━━━━━━━━━━━━━━━\u001b[0m \u001b[32m1.2/1.2 MB\u001b[0m \u001b[31m19.1 MB/s\u001b[0m eta \u001b[36m0:00:00\u001b[0m\n",
            "\u001b[?25hInstalling collected packages: tiktoken\n",
            "Successfully installed tiktoken-0.8.0\n"
          ]
        }
      ]
    },
    {
      "cell_type": "code",
      "execution_count": 2,
      "metadata": {
        "id": "i-HnHa0bwZzB",
        "colab": {
          "base_uri": "https://localhost:8080/"
        },
        "outputId": "4e0d2b8e-c05f-4436-e454-b18d153db52c"
      },
      "outputs": [
        {
          "output_type": "stream",
          "name": "stdout",
          "text": [
            "directory data create successfully!\n"
          ]
        }
      ],
      "source": [
        "from urllib.request import urlretrieve #download and save data\n",
        "from zipfile import ZipFile #unzip the downloaded file\n",
        "import os #rename\n",
        "directory_name=\"data\"\n",
        "\n",
        "try:\n",
        "  os.mkdir(directory_name)\n",
        "  print(f\"directory {directory_name} create successfully!\")\n",
        "except FileExistsError:\n",
        "  print(f\"directory {directory_name} already exists\")\n",
        "except Exception as e:\n",
        "  print(f\"An error occurred {e}\")\n",
        "def download_data():\n",
        "  data_url=\"https://archive.ics.uci.edu/static/public/228/sms+spam+collection.zip\"\n",
        "  filename=\"./data/spam_collection.zip\"\n",
        "\n",
        "  urlretrieve(data_url,filename)\n",
        "\n",
        "  with ZipFile(filename,'r') as f:\n",
        "    f.extractall('./data')\n",
        "\n",
        "  sms_='./data/SMSSpamCollection'\n",
        "  os.rename(sms_,'./data/SMSSpamCollection.tsv')\n",
        "\n",
        "\n",
        "download_data()\n",
        "\n"
      ]
    },
    {
      "cell_type": "code",
      "source": [
        "import pandas as pd\n",
        "file_=\"./data/SMSSpamCollection.tsv\"\n",
        "df=pd.read_csv(file_,sep=\"\\t\",header=None,names=[\"Label\",\"text\"])\n",
        "print(df.head())\n",
        "print(df[\"Label\"].value_counts())"
      ],
      "metadata": {
        "id": "puB_F2yxyJWx",
        "colab": {
          "base_uri": "https://localhost:8080/"
        },
        "outputId": "9c9aca39-e4fe-4075-ac05-5e58b6077b7f"
      },
      "execution_count": 3,
      "outputs": [
        {
          "output_type": "stream",
          "name": "stdout",
          "text": [
            "  Label                                               text\n",
            "0   ham  Go until jurong point, crazy.. Available only ...\n",
            "1   ham                      Ok lar... Joking wif u oni...\n",
            "2  spam  Free entry in 2 a wkly comp to win FA Cup fina...\n",
            "3   ham  U dun say so early hor... U c already then say...\n",
            "4   ham  Nah I don't think he goes to usf, he lives aro...\n",
            "Label\n",
            "ham     4825\n",
            "spam     747\n",
            "Name: count, dtype: int64\n"
          ]
        }
      ]
    },
    {
      "cell_type": "code",
      "source": [
        "def create_balanced_dataset(df):\n",
        "  num_spam= df[df[\"Label\"] == \"spam\"].shape[0]\n",
        "  new_ham=df[df[\"Label\"]==\"ham\"].sample(num_spam,random_state=42)\n",
        "\n",
        "  balanced_df=pd.concat([new_ham,df[df[\"Label\"]==\"spam\"]])\n",
        "\n",
        "  return balanced_df\n",
        "\n",
        "balanced_df=create_balanced_dataset(df)\n",
        "print(balanced_df[\"Label\"].value_counts())"
      ],
      "metadata": {
        "colab": {
          "base_uri": "https://localhost:8080/"
        },
        "id": "CnSvh-ic1OmG",
        "outputId": "94876b1b-5406-4746-b37e-6a39462f56a0"
      },
      "execution_count": 4,
      "outputs": [
        {
          "output_type": "stream",
          "name": "stdout",
          "text": [
            "Label\n",
            "ham     747\n",
            "spam    747\n",
            "Name: count, dtype: int64\n"
          ]
        }
      ]
    },
    {
      "cell_type": "code",
      "source": [
        "from sklearn.preprocessing import LabelEncoder\n",
        "le=LabelEncoder()\n",
        "balanced_df[\"Label\"]=le.fit_transform(balanced_df[\"Label\"])\n",
        "print(le.inverse_transform([0,1]))"
      ],
      "metadata": {
        "colab": {
          "base_uri": "https://localhost:8080/"
        },
        "id": "kA79pIub67s2",
        "outputId": "7c557b3a-956b-4495-99a6-ca01ac0a1bca"
      },
      "execution_count": 5,
      "outputs": [
        {
          "output_type": "stream",
          "name": "stdout",
          "text": [
            "['ham' 'spam']\n"
          ]
        }
      ]
    },
    {
      "cell_type": "code",
      "source": [
        "from sklearn.model_selection import train_test_split\n",
        "\n",
        "_df,test_df=train_test_split(balanced_df,test_size=0.2)\n",
        "train_df,valid_df=train_test_split(_df,test_size=0.1)\n",
        "\n",
        "print(train_df.shape,valid_df.shape,test_df.shape)"
      ],
      "metadata": {
        "colab": {
          "base_uri": "https://localhost:8080/"
        },
        "id": "s7C48sfB7-xk",
        "outputId": "06115b05-f102-42b3-ed9f-d3aa17886703"
      },
      "execution_count": 6,
      "outputs": [
        {
          "output_type": "stream",
          "name": "stdout",
          "text": [
            "(1075, 2) (120, 2) (299, 2)\n"
          ]
        }
      ]
    },
    {
      "cell_type": "code",
      "source": [
        "train_df.to_csv(\"train.csv\",index=None)\n",
        "valid_df.to_csv(\"valid.csv\",index=None)\n",
        "test_df.to_csv(\"test.csv\",index=None)"
      ],
      "metadata": {
        "id": "ATetR7KL8_IC"
      },
      "execution_count": 7,
      "outputs": []
    },
    {
      "cell_type": "code",
      "source": [
        "import tiktoken\n",
        "tokenizer=tiktoken.get_encoding(\"gpt2\")\n",
        "\n",
        "print(tokenizer.encode(\"<|endoftext|>\",allowed_special={\"<|endoftext|>\"}))"
      ],
      "metadata": {
        "colab": {
          "base_uri": "https://localhost:8080/"
        },
        "id": "r96ZRrYb9nSi",
        "outputId": "5745db6b-9c75-4695-b809-192c59b00a42"
      },
      "execution_count": 8,
      "outputs": [
        {
          "output_type": "stream",
          "name": "stdout",
          "text": [
            "[50256]\n"
          ]
        }
      ]
    },
    {
      "cell_type": "markdown",
      "source": [
        "`Dataset`:\n",
        "- subclass this to define how data is accessed and preprocessed\n",
        "- Encapsulates dataloading logic and preprocessing in a single object\n",
        "- Key methods:\n",
        "  - `__init__` : initializes the dataset, loads data, optionally preprocesses it\n",
        "  - `__len__`: returns the total number of samples in the dataset\n",
        "  - `__getitem__`: retrieves a single data samples(and its corresponding label) based on the index\n",
        "\n",
        "`Dataloader`\n",
        "- load data from `Dataset` in batches during training or inference\n",
        "- Automatically applies transformations like padding for sequences of varying lengths (when used with a collate_fn).\n",
        "- Can use multiple workers to load data in parallel for efficiency."
      ],
      "metadata": {
        "id": "g8ot4x7yQ7v0"
      }
    },
    {
      "cell_type": "markdown",
      "source": [
        "a=\"kabir\"\n",
        "print(a[:10])\n",
        "no error, prints kabir"
      ],
      "metadata": {
        "id": "FL0JLPXRTGEt"
      }
    },
    {
      "cell_type": "code",
      "source": [
        "import torch\n",
        "from torch.utils.data import Dataset\n",
        "\n",
        "class SpamDataset(Dataset):\n",
        "  def __init__(self,csv_file,tokenizer,max_length=None,pad_token_id=50256):\n",
        "    self.data=pd.read_csv(csv_file)\n",
        "    #preprocess the data\n",
        "    self.encoded_texts=[tokenizer.encode(text) for text in self.data[\"text\"]]\n",
        "\n",
        "    if max_length is None:\n",
        "      self.max_length=self._longest_encoded_length()\n",
        "    else:\n",
        "      #max len is provided, then, truncate or pad seq to that len\n",
        "      self.max_length=max_length\n",
        "      self.encoded_texts=[\n",
        "          encoded_text[:self.max_length] for encoded_text in self.encoded_texts\n",
        "      ]\n",
        "\n",
        "    self.encoded_texts=[encoded_text + [pad_token_id] * (self.max_length-len(encoded_text))for encoded_text in self.encoded_texts]\n",
        "\n",
        "\n",
        "  def __len__(self):\n",
        "    return len(self.data)\n",
        "\n",
        "  def __getitem__(self,index):\n",
        "    encoded=self.encoded_texts[index]\n",
        "    label=self.data.iloc[index][\"Label\"]\n",
        "\n",
        "    return (\n",
        "        torch.tensor(encoded, dtype=torch.long),\n",
        "        torch.tensor(label, dtype=torch.long)\n",
        "    )\n",
        "\n",
        "\n",
        "  def _longest_encoded_length(self):\n",
        "    max_length=0\n",
        "    for encoded_text in self.encoded_texts:\n",
        "        encoded_length = len(encoded_text)\n",
        "        if encoded_length > max_length:\n",
        "            max_length = encoded_length\n",
        "    return max_length\n",
        "\n"
      ],
      "metadata": {
        "id": "eUdHfB1f-aAo"
      },
      "execution_count": 9,
      "outputs": []
    },
    {
      "cell_type": "code",
      "source": [
        "train_dataset=SpamDataset(csv_file=\"train.csv\",tokenizer=tokenizer)\n",
        "val_dataset=SpamDataset(csv_file=\"valid.csv\",tokenizer=tokenizer,max_length=train_dataset.max_length)\n",
        "test_dataset=SpamDataset(csv_file=\"test.csv\",tokenizer=tokenizer,max_length=train_dataset.max_length)"
      ],
      "metadata": {
        "id": "mqS37CClQnal"
      },
      "execution_count": 10,
      "outputs": []
    },
    {
      "cell_type": "code",
      "source": [
        "print(train_dataset._longest_encoded_length())\n",
        "print(train_dataset.__len__())"
      ],
      "metadata": {
        "colab": {
          "base_uri": "https://localhost:8080/"
        },
        "id": "9ktfiBWLU-Bw",
        "outputId": "20247662-41a5-4e72-de33-86ac153b7591"
      },
      "execution_count": 11,
      "outputs": [
        {
          "output_type": "stream",
          "name": "stdout",
          "text": [
            "120\n",
            "1075\n"
          ]
        }
      ]
    },
    {
      "cell_type": "code",
      "source": [
        "\n",
        "import os\n",
        "\n",
        "# Get the number of CPU cores available\n",
        "num_workers = os.cpu_count()\n",
        "print(f'Number of CPU cores available: {num_workers}')"
      ],
      "metadata": {
        "colab": {
          "base_uri": "https://localhost:8080/"
        },
        "id": "Pa1V1P3VY2K1",
        "outputId": "594f441b-550c-4136-ad7a-1f1ed7f73efd"
      },
      "execution_count": 12,
      "outputs": [
        {
          "output_type": "stream",
          "name": "stdout",
          "text": [
            "Number of CPU cores available: 2\n"
          ]
        }
      ]
    },
    {
      "cell_type": "code",
      "source": [
        "#Dataloaders\n",
        "\n",
        "from torch.utils.data import DataLoader\n",
        "\n",
        "num_workers=0\n",
        "batch_size=8 # each batch will have 8 examples\n",
        "torch.manual_seed(42)\n",
        "\n",
        "train_loader=DataLoader(dataset=train_dataset,\n",
        "                        batch_size=8,\n",
        "                        shuffle=True,\n",
        "                        num_workers=0,\n",
        "                        drop_last=True)\n",
        "\n",
        "val_loader=DataLoader(dataset=val_dataset,\n",
        "                        batch_size=8,\n",
        "                        shuffle=False,\n",
        "                        num_workers=0,\n",
        "                        drop_last=False)\n",
        "\n",
        "test_loader=DataLoader(dataset=test_dataset,\n",
        "                        batch_size=8,\n",
        "                        shuffle=False,\n",
        "                        num_workers=0,\n",
        "                        drop_last=False)\n",
        "\n"
      ],
      "metadata": {
        "id": "BxjTeMLfVNOn"
      },
      "execution_count": 13,
      "outputs": []
    },
    {
      "cell_type": "code",
      "source": [
        "for input_batch, target_batch in train_loader:\n",
        "  pass\n",
        "\n",
        "print(\"Input batch dimensions:\", input_batch.shape)\n",
        "print(\"Label batch dimensions\", target_batch.shape)\n",
        "\n",
        "\n",
        "print(len(train_loader))\n",
        "print(len(val_loader))\n",
        "print(len(test_loader))"
      ],
      "metadata": {
        "colab": {
          "base_uri": "https://localhost:8080/"
        },
        "id": "3tNRya1aYj98",
        "outputId": "e18a6746-3a6f-4155-995c-5c7feb0f69cb"
      },
      "execution_count": 14,
      "outputs": [
        {
          "output_type": "stream",
          "name": "stdout",
          "text": [
            "Input batch dimensions: torch.Size([8, 120])\n",
            "Label batch dimensions torch.Size([8])\n",
            "134\n",
            "15\n",
            "38\n"
          ]
        }
      ]
    },
    {
      "cell_type": "code",
      "source": [
        "sent=tokenizer.encode(\"Hello, my dog is cute\")\n",
        "sent=torch.tensor(sent)"
      ],
      "metadata": {
        "id": "UBkIEYHMK5lx"
      },
      "execution_count": 15,
      "outputs": []
    },
    {
      "cell_type": "code",
      "source": [
        "from transformers import GPT2Model\n",
        "\n",
        "model = GPT2Model.from_pretrained(\"openai-community/gpt2\")\n",
        "\n",
        "output=model(sent)\n",
        "print(output.last_hidden_state.size())"
      ],
      "metadata": {
        "colab": {
          "base_uri": "https://localhost:8080/",
          "height": 226,
          "referenced_widgets": [
            "ba27d30aa3474d73959f00b7aea53845",
            "9141945a194e488a9c89ba0356a25b97",
            "e20db84e95864030b1d4be6d7937f50f",
            "5828c0b3f44b461993553f3e9bf184e8",
            "d806e05615384b048853bde4ea731196",
            "9b930bdf75a843f4a33dab2e6707716b",
            "8c3b322991c84cc6bc8758d07c8ddac1",
            "aa37379b0f1047bdbc12b3914a46025e",
            "79952b02cbae472498eafafa8ab43bd1",
            "753b7827cdff4b1481f43c8294937f4a",
            "8d5c1c50c9174841b776b9bb3d2fe0e8",
            "f95148d15ac3441db8ffe8a0ece6b878",
            "f7bec3f6053d4b5ab1cd0248218e325d",
            "cc5febe6209944ebba44160b9276e360",
            "41260175511f4002b9cdac07c933e7de",
            "19194417895c432daf6e9b13fe336ed6",
            "7011d6b76570418aa864763518b59353",
            "c4e2ac93a9ea440aafeafbe1862f29a0",
            "ff82cd3469d04dcab129687ddc3b7a9c",
            "61bbebc5bd6d41c4b1385b3e42f2250d",
            "c065dab5d6044a84aa0dde5d8f963151",
            "19297fb7737c4d75b554861848d74ead"
          ]
        },
        "id": "8YJNrV9_Y_v2",
        "outputId": "58c9a5d0-11c4-424d-d750-cb226bc27a1b"
      },
      "execution_count": 16,
      "outputs": [
        {
          "output_type": "stream",
          "name": "stderr",
          "text": [
            "/usr/local/lib/python3.10/dist-packages/huggingface_hub/utils/_auth.py:94: UserWarning: \n",
            "The secret `HF_TOKEN` does not exist in your Colab secrets.\n",
            "To authenticate with the Hugging Face Hub, create a token in your settings tab (https://huggingface.co/settings/tokens), set it as secret in your Google Colab and restart your session.\n",
            "You will be able to reuse this secret in all of your notebooks.\n",
            "Please note that authentication is recommended but still optional to access public models or datasets.\n",
            "  warnings.warn(\n"
          ]
        },
        {
          "output_type": "display_data",
          "data": {
            "text/plain": [
              "config.json:   0%|          | 0.00/665 [00:00<?, ?B/s]"
            ],
            "application/vnd.jupyter.widget-view+json": {
              "version_major": 2,
              "version_minor": 0,
              "model_id": "ba27d30aa3474d73959f00b7aea53845"
            }
          },
          "metadata": {}
        },
        {
          "output_type": "display_data",
          "data": {
            "text/plain": [
              "model.safetensors:   0%|          | 0.00/548M [00:00<?, ?B/s]"
            ],
            "application/vnd.jupyter.widget-view+json": {
              "version_major": 2,
              "version_minor": 0,
              "model_id": "f95148d15ac3441db8ffe8a0ece6b878"
            }
          },
          "metadata": {}
        },
        {
          "output_type": "stream",
          "name": "stdout",
          "text": [
            "torch.Size([6, 768])\n"
          ]
        }
      ]
    },
    {
      "cell_type": "code",
      "source": [
        "model.config.hidden_size"
      ],
      "metadata": {
        "colab": {
          "base_uri": "https://localhost:8080/"
        },
        "id": "K-ALcyKTPXhi",
        "outputId": "19c245b0-6587-451f-df8a-2eb92fb2808e"
      },
      "execution_count": 17,
      "outputs": [
        {
          "output_type": "execute_result",
          "data": {
            "text/plain": [
              "768"
            ]
          },
          "metadata": {},
          "execution_count": 17
        }
      ]
    },
    {
      "cell_type": "code",
      "source": [
        "from torch import nn\n",
        "class GPT2forSpamClf(nn.Module):\n",
        "  def __init__(self,num_labels=2,model_name=\"gpt2\",freeze_base=True):\n",
        "    super(GPT2forSpamClf,self).__init__()\n",
        "    self.num_labels=num_labels\n",
        "\n",
        "    self.gpt2=GPT2Model.from_pretrained(\"openai-community/gpt2\")\n",
        "\n",
        "    if freeze_base:\n",
        "      for param in self.gpt2.parameters():\n",
        "        param.requires_grad=False\n",
        "\n",
        "    self.classifier=nn.Linear(self.gpt2.config.hidden_size, num_labels)\n",
        "\n",
        "  def forward(self,input_ids):\n",
        "    outputs=self.gpt2(input_ids)\n",
        "    hidden_states=outputs.last_hidden_state #(batch_size, seq_len, hidden_size)\n",
        "    logits=self.classifier(hidden_states[:,-1,:])\n",
        "    return logits\n",
        "\n"
      ],
      "metadata": {
        "id": "UhAsut7uKPCp"
      },
      "execution_count": 18,
      "outputs": []
    },
    {
      "cell_type": "code",
      "source": [
        "gpt2=GPT2forSpamClf()"
      ],
      "metadata": {
        "id": "7lz_pOh3RnrW"
      },
      "execution_count": 19,
      "outputs": []
    },
    {
      "cell_type": "code",
      "source": [
        "inputs=tokenizer.encode(\"i love dogs\")\n",
        "inputs=torch.tensor(inputs).unsqueeze(0)\n",
        "probas=torch.softmax(gpt2(inputs),dim=-1)\n",
        "label=torch.argmax(probas)\n",
        "print(label)\n",
        "print(label.item())"
      ],
      "metadata": {
        "colab": {
          "base_uri": "https://localhost:8080/"
        },
        "id": "0ybH58JtRq2M",
        "outputId": "3d75cc74-b63a-427f-8287-886b25b1611b"
      },
      "execution_count": 20,
      "outputs": [
        {
          "output_type": "stream",
          "name": "stdout",
          "text": [
            "tensor(1)\n",
            "1\n"
          ]
        }
      ]
    },
    {
      "cell_type": "code",
      "source": [
        "def calculate_accuracy(data_loader,model,device, num_batches=None):\n",
        "  #evaluation mode\n",
        "  model.eval()\n",
        "  correct_predictions=0\n",
        "  num_examples=0\n",
        "\n",
        "  if num_batches is None:\n",
        "    num_batches=len(data_loader)\n",
        "  else:\n",
        "    num_batches=min(num_batches,len(data_loader))\n",
        "\n",
        "  for i, (input_batch,target_batch) in enumerate(data_loader):\n",
        "    if i < num_batches:\n",
        "      input_batch=input_batch.to(device)\n",
        "      target_batch=target_batch.to(device)\n",
        "\n",
        "      with torch.no_grad():\n",
        "        logits=model(input_batch)\n",
        "\n",
        "      predicted_labels=torch.argmax(logits,dim=-1)\n",
        "\n",
        "      num_examples +=predicted_labels.shape[0]\n",
        "\n",
        "      correct_predictions+=( (predicted_labels==target_batch).sum().item())\n",
        "    else:\n",
        "      break\n",
        "\n",
        "  return correct_predictions/num_examples\n",
        "\n",
        "\n"
      ],
      "metadata": {
        "id": "kmcabsbRR2CO"
      },
      "execution_count": 21,
      "outputs": []
    },
    {
      "cell_type": "code",
      "source": [
        "device=torch.device(\"cuda\" if torch.cuda.is_available() else \"cpu\")\n",
        "gpt2.to(device)\n",
        "\n",
        "torch.manual_seed(42)\n",
        "train_accuracy=calculate_accuracy(train_loader,gpt2,device,num_batches=10)\n",
        "val_accuracy=calculate_accuracy(val_loader,gpt2,device,num_batches=10)\n",
        "test_accuracy=calculate_accuracy(test_loader,gpt2,device,num_batches=10)\n",
        "\n",
        "print(f\"training acc\",train_accuracy*100,'%')\n",
        "print(f\"val acc\",val_accuracy*100,'%')\n",
        "print(f\"test_acc\",test_accuracy*100,'%')"
      ],
      "metadata": {
        "colab": {
          "base_uri": "https://localhost:8080/"
        },
        "id": "-exQQo0KO8ND",
        "outputId": "db4dbb8f-cd23-467d-8f49-709c763c531f"
      },
      "execution_count": 22,
      "outputs": [
        {
          "output_type": "stream",
          "name": "stdout",
          "text": [
            "training acc 43.75 %\n",
            "val acc 51.24999999999999 %\n",
            "test_acc 51.24999999999999 %\n"
          ]
        }
      ]
    },
    {
      "cell_type": "code",
      "source": [
        "def calculate_loss_batch(input_batch,target_batch,model,device):\n",
        "  input_batch=input_batch.to(device)\n",
        "  target_batch=target_batch.to(device)\n",
        "  logits=model(input_batch)\n",
        "  loss=torch.nn.functional.cross_entropy(logits,target_batch)\n",
        "  return loss"
      ],
      "metadata": {
        "id": "k4HsS2gURRfx"
      },
      "execution_count": 23,
      "outputs": []
    },
    {
      "cell_type": "code",
      "source": [
        "def calculate_loss_loader(data_loader,model,device,num_batches=None):\n",
        "  total_loss=0\n",
        "  if len(data_loader)==0:\n",
        "    return float(\"nan\")\n",
        "\n",
        "  elif num_batches is None:\n",
        "    num_batches=len(data_loader)\n",
        "\n",
        "  else:\n",
        "    num_batches=min(num_batches,len(data_loader))\n",
        "\n",
        "  for i,(input_batch,target_batch) in enumerate(data_loader):\n",
        "    if i < num_batches:\n",
        "      loss=calculate_loss_batch(input_batch,target_batch,model,device)\n",
        "\n",
        "      total_loss+=loss.item()\n",
        "    else:\n",
        "      break\n",
        "  return total_loss / len(data_loader)"
      ],
      "metadata": {
        "id": "BsNjxhTNUd7y"
      },
      "execution_count": 24,
      "outputs": []
    },
    {
      "cell_type": "code",
      "source": [
        "with torch.no_grad():\n",
        "  train_loss=calculate_loss_loader(train_loader,gpt2,device,num_batches=5)\n",
        "\n",
        "print(train_loss)"
      ],
      "metadata": {
        "colab": {
          "base_uri": "https://localhost:8080/"
        },
        "id": "h1VpSUqNozR_",
        "outputId": "026f67a8-8d4f-4a92-af6a-4c9285a47945"
      },
      "execution_count": 25,
      "outputs": [
        {
          "output_type": "stream",
          "name": "stdout",
          "text": [
            "0.034483952308768655\n"
          ]
        }
      ]
    },
    {
      "cell_type": "code",
      "source": [
        "def eval_model(model,train_loader,val_loader,device,eval_iter):\n",
        "  model.eval()\n",
        "  with torch.no_grad():\n",
        "    train_loss=calculate_loss_loader(\n",
        "        train_loader,model,device,num_batches=eval_iter\n",
        "    )\n",
        "    val_loss=calculate_loss_loader(\n",
        "        val_loader,model,device,eval_iter\n",
        "    )\n",
        "\n",
        "  model.train()\n",
        "\n",
        "  return train_loss,val_loss"
      ],
      "metadata": {
        "id": "MwSS1IgGtdEu"
      },
      "execution_count": 26,
      "outputs": []
    },
    {
      "cell_type": "code",
      "source": [
        "def train_classifier(model,train_loader,val_loader,optimizer,device,num_epochs,eval_freq,eval_iter):\n",
        "  train_losses,val_losses,train_accs,val_accs=[],[],[],[]\n",
        "\n",
        "  examples_seen=0\n",
        "  global_step=-1\n",
        "\n",
        "\n",
        "  for epoch in range(num_epochs):\n",
        "\n",
        "    model.train()\n",
        "\n",
        "\n",
        "    for input_batch,target_batch in train_loader:\n",
        "      loss=calculate_loss_batch(input_batch,target_batch,model,device)\n",
        "      optimizer.zero_grad()\n",
        "      loss.backward()\n",
        "      optimizer.step()\n",
        "\n",
        "      examples_seen+=input_batch.shape[0]\n",
        "      global_step+=1\n",
        "\n",
        "      if global_step%eval_freq==0:\n",
        "        train_loss,val_loss=eval_model(model,train_loader,val_loader,device,eval_iter)\n",
        "\n",
        "        train_losses.append(train_loss)\n",
        "        val_losses.append(val_loss)\n",
        "\n",
        "        print(f\"Epoch {epoch + 1}, Step {global_step:06d}, Train_loss:{train_loss:.3f}, Val_loss:{val_loss:.3f}\")\n",
        "\n",
        "\n",
        "    train_accuracy=calculate_accuracy(train_loader,model,device,num_batches=eval_iter)\n",
        "    val_accuracy=calculate_accuracy(val_loader,model,device,num_batches=eval_iter)\n",
        "    print(f\"Training accuracy: {train_accuracy*100:.2f}% | \", end=\"\")\n",
        "    print(f\"Validation accuracy: {val_accuracy*100:.2f}%\")\n",
        "    train_accs.append(train_accuracy)\n",
        "    val_accs.append(val_accuracy)\n",
        "\n",
        "  return train_losses, val_losses, train_accs, val_accs, examples_seen\n",
        "\n"
      ],
      "metadata": {
        "id": "wAIcn24Io_WQ"
      },
      "execution_count": 27,
      "outputs": []
    },
    {
      "cell_type": "code",
      "source": [
        "import time\n",
        "\n",
        "start_time=time.time()\n",
        "torch.manual_seed(42)\n",
        "optimizer=torch.optim.AdamW(gpt2.parameters(),lr=5e-5,weight_decay=0.1)\n",
        "num_epochs=10\n",
        "\n",
        "train_losses, val_losses, train_accs, val_accs, examples_seen=train_classifier(gpt2,train_loader,val_loader,optimizer,device,num_epochs,eval_freq=50,eval_iter=5)\n",
        "\n",
        "end_time=time.time()\n",
        "\n",
        "execution_time_minutes = (end_time - start_time) / 60\n",
        "print(f\"Training completed in {execution_time_minutes:.2f} minutes.\")\n"
      ],
      "metadata": {
        "colab": {
          "base_uri": "https://localhost:8080/"
        },
        "id": "GYRuPahXuz6S",
        "outputId": "13670d94-03d3-4e6c-cded-e3b632ac7f26"
      },
      "execution_count": 29,
      "outputs": [
        {
          "output_type": "stream",
          "name": "stdout",
          "text": [
            "Epoch 1, Step 000000, Train_loss:0.026, Val_loss:0.224\n",
            "Epoch 1, Step 000050, Train_loss:0.023, Val_loss:0.217\n",
            "Epoch 1, Step 000100, Train_loss:0.024, Val_loss:0.217\n",
            "Training accuracy: 67.50% | Validation accuracy: 62.50%\n",
            "Epoch 2, Step 000150, Train_loss:0.024, Val_loss:0.217\n",
            "Epoch 2, Step 000200, Train_loss:0.024, Val_loss:0.216\n",
            "Epoch 2, Step 000250, Train_loss:0.023, Val_loss:0.215\n",
            "Training accuracy: 80.00% | Validation accuracy: 75.00%\n",
            "Epoch 3, Step 000300, Train_loss:0.023, Val_loss:0.213\n",
            "Epoch 3, Step 000350, Train_loss:0.023, Val_loss:0.214\n",
            "Epoch 3, Step 000400, Train_loss:0.022, Val_loss:0.213\n",
            "Training accuracy: 72.50% | Validation accuracy: 75.00%\n",
            "Epoch 4, Step 000450, Train_loss:0.023, Val_loss:0.212\n",
            "Epoch 4, Step 000500, Train_loss:0.022, Val_loss:0.211\n",
            "Training accuracy: 85.00% | Validation accuracy: 75.00%\n",
            "Epoch 5, Step 000550, Train_loss:0.022, Val_loss:0.210\n",
            "Epoch 5, Step 000600, Train_loss:0.022, Val_loss:0.208\n",
            "Epoch 5, Step 000650, Train_loss:0.023, Val_loss:0.212\n",
            "Training accuracy: 55.00% | Validation accuracy: 50.00%\n",
            "Epoch 6, Step 000700, Train_loss:0.022, Val_loss:0.207\n",
            "Epoch 6, Step 000750, Train_loss:0.021, Val_loss:0.207\n",
            "Epoch 6, Step 000800, Train_loss:0.022, Val_loss:0.210\n",
            "Training accuracy: 70.00% | Validation accuracy: 67.50%\n",
            "Epoch 7, Step 000850, Train_loss:0.022, Val_loss:0.205\n",
            "Epoch 7, Step 000900, Train_loss:0.024, Val_loss:0.205\n",
            "Training accuracy: 70.00% | Validation accuracy: 57.50%\n",
            "Epoch 8, Step 000950, Train_loss:0.023, Val_loss:0.210\n",
            "Epoch 8, Step 001000, Train_loss:0.021, Val_loss:0.206\n",
            "Epoch 8, Step 001050, Train_loss:0.023, Val_loss:0.207\n",
            "Training accuracy: 82.50% | Validation accuracy: 70.00%\n",
            "Epoch 9, Step 001100, Train_loss:0.022, Val_loss:0.202\n",
            "Epoch 9, Step 001150, Train_loss:0.020, Val_loss:0.210\n",
            "Epoch 9, Step 001200, Train_loss:0.023, Val_loss:0.207\n",
            "Training accuracy: 87.50% | Validation accuracy: 65.00%\n",
            "Epoch 10, Step 001250, Train_loss:0.022, Val_loss:0.203\n",
            "Epoch 10, Step 001300, Train_loss:0.019, Val_loss:0.205\n",
            "Training accuracy: 90.00% | Validation accuracy: 75.00%\n",
            "Training completed in 1.63 minutes.\n"
          ]
        }
      ]
    },
    {
      "cell_type": "code",
      "source": [
        "print(examples_seen,len(train_losses),len(val_losses),len(train_accs),len(val_accs))"
      ],
      "metadata": {
        "id": "EROIJUIfvX9z",
        "colab": {
          "base_uri": "https://localhost:8080/"
        },
        "outputId": "30fa6130-fb02-4058-e848-62e6e0f05189"
      },
      "execution_count": 31,
      "outputs": [
        {
          "output_type": "stream",
          "name": "stdout",
          "text": [
            "10720 27 27 10 10\n"
          ]
        }
      ]
    },
    {
      "cell_type": "code",
      "source": [
        "import matplotlib.pyplot as plt\n",
        "\n",
        "def plot_values(epochs_seen,examples_seen,train_values,val_values,label=\"loss\"):\n",
        "  fig, ax1 = plt.subplots(figsize=(5, 3))\n",
        "  ax1.plot(epochs_seen,train_values,label=f\"Training {label}\")\n",
        "  ax1.plot(epochs_seen,val_values,label=f\"validation {label}\")\n",
        "  ax1.set_xlabel(\"Epochs\")\n",
        "  ax1.set_ylabel(label.capitalize())\n",
        "  ax1.legend()\n",
        "\n",
        "  ax2=ax1.twiny()\n",
        "  ax2.plot(examples_seen, train_values, alpha=0)\n",
        "  ax2.set_xlabel(\"Examples seen\")\n",
        "  fig.tight_layout()\n",
        "  plt.savefig(f\"{label}-plot.pdf\")\n",
        "  plt.show()\n",
        "epochs_tensor = torch.linspace(0, num_epochs, len(train_losses))\n",
        "examples_seen_tensor = torch.linspace(0, examples_seen, len(train_losses))\n",
        "plot_values(epochs_tensor, examples_seen_tensor, train_losses, val_losses)\n"
      ],
      "metadata": {
        "colab": {
          "base_uri": "https://localhost:8080/",
          "height": 307
        },
        "id": "lIeL3CbvXyB3",
        "outputId": "3f4e03a9-8a1d-487e-e60c-ff74fb6d92e4"
      },
      "execution_count": 32,
      "outputs": [
        {
          "output_type": "display_data",
          "data": {
            "text/plain": [
              "<Figure size 500x300 with 2 Axes>"
            ],
            "image/png": "[encoded data removed]"
          },
          "metadata": {}
        }
      ]
    },
    {
      "cell_type": "code",
      "source": [
        "epochs_tensor = torch.linspace(0, num_epochs, len(train_accs))\n",
        "examples_seen_tensor = torch.linspace(0, examples_seen, len(train_accs))\n",
        "plot_values(\n",
        "    epochs_tensor, examples_seen_tensor, train_accs, val_accs,\n",
        "    label=\"accuracy\"\n",
        ")"
      ],
      "metadata": {
        "colab": {
          "base_uri": "https://localhost:8080/",
          "height": 307
        },
        "id": "Z9knW1u0YueR",
        "outputId": "71f1bff6-69e5-4948-a927-3f071e3b73a5"
      },
      "execution_count": 33,
      "outputs": [
        {
          "output_type": "display_data",
          "data": {
            "text/plain": [
              "<Figure size 500x300 with 2 Axes>"
            ],
            "image/png": "[encoded data removed]"
          },
          "metadata": {}
        }
      ]
    },
    {
      "cell_type": "code",
      "source": [
        "def classify_review(text,model,tokenizer,device,max_length=None,pad_token_id=50256):\n",
        "\n",
        "  model.eval()\n",
        "\n",
        "  input_ids=tokenizer.encode(text)\n",
        "  input_ids=input_ids[:max_length]\n",
        "\n",
        "  input_ids += [pad_token_id] * (max_length - len(input_ids))\n",
        "  input_tensor = torch.tensor(\n",
        "    input_ids, device=device\n",
        "    ).unsqueeze(0)\n",
        "\n",
        "  with torch.no_grad():\n",
        "    logits = model(input_tensor)\n",
        "  predicted_label = torch.argmax(logits, dim=-1).item()\n",
        "\n",
        "  return \"spam\" if predicted_label == 1 else \"not spam\"\n",
        "\n",
        "\n"
      ],
      "metadata": {
        "id": "xX71U2vDY4ED"
      },
      "execution_count": 36,
      "outputs": []
    },
    {
      "cell_type": "code",
      "source": [
        "text_1 = (\n",
        "    \"You are a winner you have been specially\"\n",
        "    \" selected to receive $1000 cash or a $2000 award.\"\n",
        ")\n",
        "print(classify_review(\n",
        "    text_1, gpt2, tokenizer, device, max_length=train_dataset.max_length\n",
        "))"
      ],
      "metadata": {
        "colab": {
          "base_uri": "https://localhost:8080/"
        },
        "id": "TjzcevMEY8nO",
        "outputId": "e702d58c-9cee-4e2c-be5a-916c489e6cde"
      },
      "execution_count": 37,
      "outputs": [
        {
          "output_type": "stream",
          "name": "stdout",
          "text": [
            "spam\n"
          ]
        }
      ]
    },
    {
      "cell_type": "code",
      "source": [
        "text_2 = (\n",
        "    \"Hey, just wanted to check if we're still on\"\n",
        "    \" for dinner tonight? Let me know!\"\n",
        ")\n",
        "print(classify_review(\n",
        "    text_2, gpt2, tokenizer, device, max_length=train_dataset.max_length\n",
        "))"
      ],
      "metadata": {
        "colab": {
          "base_uri": "https://localhost:8080/"
        },
        "id": "2Kz5A3wLZoit",
        "outputId": "172389ee-43cc-479d-ac19-e7da67253bb8"
      },
      "execution_count": 38,
      "outputs": [
        {
          "output_type": "stream",
          "name": "stdout",
          "text": [
            "not spam\n"
          ]
        }
      ]
    },
    {
      "cell_type": "code",
      "source": [
        "torch.save(gpt2.state_dict(), \"review_classifier.pth\")"
      ],
      "metadata": {
        "id": "MiJJ_mNqZr9V"
      },
      "execution_count": 40,
      "outputs": []
    },
    {
      "cell_type": "markdown",
      "source": [
        "model_state_dict = torch.load(\"review_classifier.pth, map_location=device\")  \n",
        "model.load_state_dict(model_state_dict)"
      ],
      "metadata": {
        "id": "aNGl4HrtZt-D"
      }
    }
  ]
}