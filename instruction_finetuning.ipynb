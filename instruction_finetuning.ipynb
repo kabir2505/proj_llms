{
  "nbformat": 4,
  "nbformat_minor": 0,
  "metadata": {
    "colab": {
      "provenance": [],
      "gpuType": "T4"
    },
    "kernelspec": {
      "name": "python3",
      "display_name": "Python 3"
    },
    "language_info": {
      "name": "python"
    },
    "accelerator": "GPU",
    "widgets": {
      "application/vnd.jupyter.widget-state+json": {
        "ea33eabc6c724240966ad7e57fda2b5a": {
          "model_module": "@jupyter-widgets/controls",
          "model_name": "HBoxModel",
          "model_module_version": "1.5.0",
          "state": {
            "_dom_classes": [],
            "_model_module": "@jupyter-widgets/controls",
            "_model_module_version": "1.5.0",
            "_model_name": "HBoxModel",
            "_view_count": null,
            "_view_module": "@jupyter-widgets/controls",
            "_view_module_version": "1.5.0",
            "_view_name": "HBoxView",
            "box_style": "",
            "children": [
              "IPY_MODEL_64301c08d08348ecb4cb05f25e6960b7",
              "IPY_MODEL_df4ab1479ca14a00b128b77935935a0c",
              "IPY_MODEL_dc582e898b1648c1be2894247a6ba304"
            ],
            "layout": "IPY_MODEL_d1336c7a19a94f67a119cfda5e260737"
          }
        },
        "64301c08d08348ecb4cb05f25e6960b7": {
          "model_module": "@jupyter-widgets/controls",
          "model_name": "HTMLModel",
          "model_module_version": "1.5.0",
          "state": {
            "_dom_classes": [],
            "_model_module": "@jupyter-widgets/controls",
            "_model_module_version": "1.5.0",
            "_model_name": "HTMLModel",
            "_view_count": null,
            "_view_module": "@jupyter-widgets/controls",
            "_view_module_version": "1.5.0",
            "_view_name": "HTMLView",
            "description": "",
            "description_tooltip": null,
            "layout": "IPY_MODEL_102154bc1a2f4771a19fd24e5c465f12",
            "placeholder": "​",
            "style": "IPY_MODEL_0ff99fc9c8ec41a39f805d43d4720b16",
            "value": "config.json: 100%"
          }
        },
        "df4ab1479ca14a00b128b77935935a0c": {
          "model_module": "@jupyter-widgets/controls",
          "model_name": "FloatProgressModel",
          "model_module_version": "1.5.0",
          "state": {
            "_dom_classes": [],
            "_model_module": "@jupyter-widgets/controls",
            "_model_module_version": "1.5.0",
            "_model_name": "FloatProgressModel",
            "_view_count": null,
            "_view_module": "@jupyter-widgets/controls",
            "_view_module_version": "1.5.0",
            "_view_name": "ProgressView",
            "bar_style": "success",
            "description": "",
            "description_tooltip": null,
            "layout": "IPY_MODEL_d8fc2165bb26478aab869170880a0348",
            "max": 665,
            "min": 0,
            "orientation": "horizontal",
            "style": "IPY_MODEL_7c2aa5be124e4bbc89e312c8e277d908",
            "value": 665
          }
        },
        "dc582e898b1648c1be2894247a6ba304": {
          "model_module": "@jupyter-widgets/controls",
          "model_name": "HTMLModel",
          "model_module_version": "1.5.0",
          "state": {
            "_dom_classes": [],
            "_model_module": "@jupyter-widgets/controls",
            "_model_module_version": "1.5.0",
            "_model_name": "HTMLModel",
            "_view_count": null,
            "_view_module": "@jupyter-widgets/controls",
            "_view_module_version": "1.5.0",
            "_view_name": "HTMLView",
            "description": "",
            "description_tooltip": null,
            "layout": "IPY_MODEL_d1a20d01ac8a4923982cf3e246b84c83",
            "placeholder": "​",
            "style": "IPY_MODEL_5abe2af7f23544d8b078ebebbb714159",
            "value": " 665/665 [00:00&lt;00:00, 45.4kB/s]"
          }
        },
        "d1336c7a19a94f67a119cfda5e260737": {
          "model_module": "@jupyter-widgets/base",
          "model_name": "LayoutModel",
          "model_module_version": "1.2.0",
          "state": {
            "_model_module": "@jupyter-widgets/base",
            "_model_module_version": "1.2.0",
            "_model_name": "LayoutModel",
            "_view_count": null,
            "_view_module": "@jupyter-widgets/base",
            "_view_module_version": "1.2.0",
            "_view_name": "LayoutView",
            "align_content": null,
            "align_items": null,
            "align_self": null,
            "border": null,
            "bottom": null,
            "display": null,
            "flex": null,
            "flex_flow": null,
            "grid_area": null,
            "grid_auto_columns": null,
            "grid_auto_flow": null,
            "grid_auto_rows": null,
            "grid_column": null,
            "grid_gap": null,
            "grid_row": null,
            "grid_template_areas": null,
            "grid_template_columns": null,
            "grid_template_rows": null,
            "height": null,
            "justify_content": null,
            "justify_items": null,
            "left": null,
            "margin": null,
            "max_height": null,
            "max_width": null,
            "min_height": null,
            "min_width": null,
            "object_fit": null,
            "object_position": null,
            "order": null,
            "overflow": null,
            "overflow_x": null,
            "overflow_y": null,
            "padding": null,
            "right": null,
            "top": null,
            "visibility": null,
            "width": null
          }
        },
        "102154bc1a2f4771a19fd24e5c465f12": {
          "model_module": "@jupyter-widgets/base",
          "model_name": "LayoutModel",
          "model_module_version": "1.2.0",
          "state": {
            "_model_module": "@jupyter-widgets/base",
            "_model_module_version": "1.2.0",
            "_model_name": "LayoutModel",
            "_view_count": null,
            "_view_module": "@jupyter-widgets/base",
            "_view_module_version": "1.2.0",
            "_view_name": "LayoutView",
            "align_content": null,
            "align_items": null,
            "align_self": null,
            "border": null,
            "bottom": null,
            "display": null,
            "flex": null,
            "flex_flow": null,
            "grid_area": null,
            "grid_auto_columns": null,
            "grid_auto_flow": null,
            "grid_auto_rows": null,
            "grid_column": null,
            "grid_gap": null,
            "grid_row": null,
            "grid_template_areas": null,
            "grid_template_columns": null,
            "grid_template_rows": null,
            "height": null,
            "justify_content": null,
            "justify_items": null,
            "left": null,
            "margin": null,
            "max_height": null,
            "max_width": null,
            "min_height": null,
            "min_width": null,
            "object_fit": null,
            "object_position": null,
            "order": null,
            "overflow": null,
            "overflow_x": null,
            "overflow_y": null,
            "padding": null,
            "right": null,
            "top": null,
            "visibility": null,
            "width": null
          }
        },
        "0ff99fc9c8ec41a39f805d43d4720b16": {
          "model_module": "@jupyter-widgets/controls",
          "model_name": "DescriptionStyleModel",
          "model_module_version": "1.5.0",
          "state": {
            "_model_module": "@jupyter-widgets/controls",
            "_model_module_version": "1.5.0",
            "_model_name": "DescriptionStyleModel",
            "_view_count": null,
            "_view_module": "@jupyter-widgets/base",
            "_view_module_version": "1.2.0",
            "_view_name": "StyleView",
            "description_width": ""
          }
        },
        "d8fc2165bb26478aab869170880a0348": {
          "model_module": "@jupyter-widgets/base",
          "model_name": "LayoutModel",
          "model_module_version": "1.2.0",
          "state": {
            "_model_module": "@jupyter-widgets/base",
            "_model_module_version": "1.2.0",
            "_model_name": "LayoutModel",
            "_view_count": null,
            "_view_module": "@jupyter-widgets/base",
            "_view_module_version": "1.2.0",
            "_view_name": "LayoutView",
            "align_content": null,
            "align_items": null,
            "align_self": null,
            "border": null,
            "bottom": null,
            "display": null,
            "flex": null,
            "flex_flow": null,
            "grid_area": null,
            "grid_auto_columns": null,
            "grid_auto_flow": null,
            "grid_auto_rows": null,
            "grid_column": null,
            "grid_gap": null,
            "grid_row": null,
            "grid_template_areas": null,
            "grid_template_columns": null,
            "grid_template_rows": null,
            "height": null,
            "justify_content": null,
            "justify_items": null,
            "left": null,
            "margin": null,
            "max_height": null,
            "max_width": null,
            "min_height": null,
            "min_width": null,
            "object_fit": null,
            "object_position": null,
            "order": null,
            "overflow": null,
            "overflow_x": null,
            "overflow_y": null,
            "padding": null,
            "right": null,
            "top": null,
            "visibility": null,
            "width": null
          }
        },
        "7c2aa5be124e4bbc89e312c8e277d908": {
          "model_module": "@jupyter-widgets/controls",
          "model_name": "ProgressStyleModel",
          "model_module_version": "1.5.0",
          "state": {
            "_model_module": "@jupyter-widgets/controls",
            "_model_module_version": "1.5.0",
            "_model_name": "ProgressStyleModel",
            "_view_count": null,
            "_view_module": "@jupyter-widgets/base",
            "_view_module_version": "1.2.0",
            "_view_name": "StyleView",
            "bar_color": null,
            "description_width": ""
          }
        },
        "d1a20d01ac8a4923982cf3e246b84c83": {
          "model_module": "@jupyter-widgets/base",
          "model_name": "LayoutModel",
          "model_module_version": "1.2.0",
          "state": {
            "_model_module": "@jupyter-widgets/base",
            "_model_module_version": "1.2.0",
            "_model_name": "LayoutModel",
            "_view_count": null,
            "_view_module": "@jupyter-widgets/base",
            "_view_module_version": "1.2.0",
            "_view_name": "LayoutView",
            "align_content": null,
            "align_items": null,
            "align_self": null,
            "border": null,
            "bottom": null,
            "display": null,
            "flex": null,
            "flex_flow": null,
            "grid_area": null,
            "grid_auto_columns": null,
            "grid_auto_flow": null,
            "grid_auto_rows": null,
            "grid_column": null,
            "grid_gap": null,
            "grid_row": null,
            "grid_template_areas": null,
            "grid_template_columns": null,
            "grid_template_rows": null,
            "height": null,
            "justify_content": null,
            "justify_items": null,
            "left": null,
            "margin": null,
            "max_height": null,
            "max_width": null,
            "min_height": null,
            "min_width": null,
            "object_fit": null,
            "object_position": null,
            "order": null,
            "overflow": null,
            "overflow_x": null,
            "overflow_y": null,
            "padding": null,
            "right": null,
            "top": null,
            "visibility": null,
            "width": null
          }
        },
        "5abe2af7f23544d8b078ebebbb714159": {
          "model_module": "@jupyter-widgets/controls",
          "model_name": "DescriptionStyleModel",
          "model_module_version": "1.5.0",
          "state": {
            "_model_module": "@jupyter-widgets/controls",
            "_model_module_version": "1.5.0",
            "_model_name": "DescriptionStyleModel",
            "_view_count": null,
            "_view_module": "@jupyter-widgets/base",
            "_view_module_version": "1.2.0",
            "_view_name": "StyleView",
            "description_width": ""
          }
        },
        "526bf0adec7243deb73caeb0f57a9855": {
          "model_module": "@jupyter-widgets/controls",
          "model_name": "HBoxModel",
          "model_module_version": "1.5.0",
          "state": {
            "_dom_classes": [],
            "_model_module": "@jupyter-widgets/controls",
            "_model_module_version": "1.5.0",
            "_model_name": "HBoxModel",
            "_view_count": null,
            "_view_module": "@jupyter-widgets/controls",
            "_view_module_version": "1.5.0",
            "_view_name": "HBoxView",
            "box_style": "",
            "children": [
              "IPY_MODEL_93baca124db147219745ddde2054cdf0",
              "IPY_MODEL_9e43d0be857442e29c21c9799ef25365",
              "IPY_MODEL_170c9a4f39b74a8196f897891e69a43c"
            ],
            "layout": "IPY_MODEL_f8559b880d0746b4aa16d5f03c56cdae"
          }
        },
        "93baca124db147219745ddde2054cdf0": {
          "model_module": "@jupyter-widgets/controls",
          "model_name": "HTMLModel",
          "model_module_version": "1.5.0",
          "state": {
            "_dom_classes": [],
            "_model_module": "@jupyter-widgets/controls",
            "_model_module_version": "1.5.0",
            "_model_name": "HTMLModel",
            "_view_count": null,
            "_view_module": "@jupyter-widgets/controls",
            "_view_module_version": "1.5.0",
            "_view_name": "HTMLView",
            "description": "",
            "description_tooltip": null,
            "layout": "IPY_MODEL_903f61635a374d3d9c706a6aa867623b",
            "placeholder": "​",
            "style": "IPY_MODEL_6420e02519914eb18d985a25a754d781",
            "value": "model.safetensors: 100%"
          }
        },
        "9e43d0be857442e29c21c9799ef25365": {
          "model_module": "@jupyter-widgets/controls",
          "model_name": "FloatProgressModel",
          "model_module_version": "1.5.0",
          "state": {
            "_dom_classes": [],
            "_model_module": "@jupyter-widgets/controls",
            "_model_module_version": "1.5.0",
            "_model_name": "FloatProgressModel",
            "_view_count": null,
            "_view_module": "@jupyter-widgets/controls",
            "_view_module_version": "1.5.0",
            "_view_name": "ProgressView",
            "bar_style": "success",
            "description": "",
            "description_tooltip": null,
            "layout": "IPY_MODEL_38135dbb76964728913aae57b623746b",
            "max": 548105171,
            "min": 0,
            "orientation": "horizontal",
            "style": "IPY_MODEL_81a684bc56744206932ffacee1073e41",
            "value": 548105171
          }
        },
        "170c9a4f39b74a8196f897891e69a43c": {
          "model_module": "@jupyter-widgets/controls",
          "model_name": "HTMLModel",
          "model_module_version": "1.5.0",
          "state": {
            "_dom_classes": [],
            "_model_module": "@jupyter-widgets/controls",
            "_model_module_version": "1.5.0",
            "_model_name": "HTMLModel",
            "_view_count": null,
            "_view_module": "@jupyter-widgets/controls",
            "_view_module_version": "1.5.0",
            "_view_name": "HTMLView",
            "description": "",
            "description_tooltip": null,
            "layout": "IPY_MODEL_4615151a7b9c437396eb4d888a8caaba",
            "placeholder": "​",
            "style": "IPY_MODEL_369058f918fb46ada513f11e6df53cad",
            "value": " 548M/548M [00:02&lt;00:00, 241MB/s]"
          }
        },
        "f8559b880d0746b4aa16d5f03c56cdae": {
          "model_module": "@jupyter-widgets/base",
          "model_name": "LayoutModel",
          "model_module_version": "1.2.0",
          "state": {
            "_model_module": "@jupyter-widgets/base",
            "_model_module_version": "1.2.0",
            "_model_name": "LayoutModel",
            "_view_count": null,
            "_view_module": "@jupyter-widgets/base",
            "_view_module_version": "1.2.0",
            "_view_name": "LayoutView",
            "align_content": null,
            "align_items": null,
            "align_self": null,
            "border": null,
            "bottom": null,
            "display": null,
            "flex": null,
            "flex_flow": null,
            "grid_area": null,
            "grid_auto_columns": null,
            "grid_auto_flow": null,
            "grid_auto_rows": null,
            "grid_column": null,
            "grid_gap": null,
            "grid_row": null,
            "grid_template_areas": null,
            "grid_template_columns": null,
            "grid_template_rows": null,
            "height": null,
            "justify_content": null,
            "justify_items": null,
            "left": null,
            "margin": null,
            "max_height": null,
            "max_width": null,
            "min_height": null,
            "min_width": null,
            "object_fit": null,
            "object_position": null,
            "order": null,
            "overflow": null,
            "overflow_x": null,
            "overflow_y": null,
            "padding": null,
            "right": null,
            "top": null,
            "visibility": null,
            "width": null
          }
        },
        "903f61635a374d3d9c706a6aa867623b": {
          "model_module": "@jupyter-widgets/base",
          "model_name": "LayoutModel",
          "model_module_version": "1.2.0",
          "state": {
            "_model_module": "@jupyter-widgets/base",
            "_model_module_version": "1.2.0",
            "_model_name": "LayoutModel",
            "_view_count": null,
            "_view_module": "@jupyter-widgets/base",
            "_view_module_version": "1.2.0",
            "_view_name": "LayoutView",
            "align_content": null,
            "align_items": null,
            "align_self": null,
            "border": null,
            "bottom": null,
            "display": null,
            "flex": null,
            "flex_flow": null,
            "grid_area": null,
            "grid_auto_columns": null,
            "grid_auto_flow": null,
            "grid_auto_rows": null,
            "grid_column": null,
            "grid_gap": null,
            "grid_row": null,
            "grid_template_areas": null,
            "grid_template_columns": null,
            "grid_template_rows": null,
            "height": null,
            "justify_content": null,
            "justify_items": null,
            "left": null,
            "margin": null,
            "max_height": null,
            "max_width": null,
            "min_height": null,
            "min_width": null,
            "object_fit": null,
            "object_position": null,
            "order": null,
            "overflow": null,
            "overflow_x": null,
            "overflow_y": null,
            "padding": null,
            "right": null,
            "top": null,
            "visibility": null,
            "width": null
          }
        },
        "6420e02519914eb18d985a25a754d781": {
          "model_module": "@jupyter-widgets/controls",
          "model_name": "DescriptionStyleModel",
          "model_module_version": "1.5.0",
          "state": {
            "_model_module": "@jupyter-widgets/controls",
            "_model_module_version": "1.5.0",
            "_model_name": "DescriptionStyleModel",
            "_view_count": null,
            "_view_module": "@jupyter-widgets/base",
            "_view_module_version": "1.2.0",
            "_view_name": "StyleView",
            "description_width": ""
          }
        },
        "38135dbb76964728913aae57b623746b": {
          "model_module": "@jupyter-widgets/base",
          "model_name": "LayoutModel",
          "model_module_version": "1.2.0",
          "state": {
            "_model_module": "@jupyter-widgets/base",
            "_model_module_version": "1.2.0",
            "_model_name": "LayoutModel",
            "_view_count": null,
            "_view_module": "@jupyter-widgets/base",
            "_view_module_version": "1.2.0",
            "_view_name": "LayoutView",
            "align_content": null,
            "align_items": null,
            "align_self": null,
            "border": null,
            "bottom": null,
            "display": null,
            "flex": null,
            "flex_flow": null,
            "grid_area": null,
            "grid_auto_columns": null,
            "grid_auto_flow": null,
            "grid_auto_rows": null,
            "grid_column": null,
            "grid_gap": null,
            "grid_row": null,
            "grid_template_areas": null,
            "grid_template_columns": null,
            "grid_template_rows": null,
            "height": null,
            "justify_content": null,
            "justify_items": null,
            "left": null,
            "margin": null,
            "max_height": null,
            "max_width": null,
            "min_height": null,
            "min_width": null,
            "object_fit": null,
            "object_position": null,
            "order": null,
            "overflow": null,
            "overflow_x": null,
            "overflow_y": null,
            "padding": null,
            "right": null,
            "top": null,
            "visibility": null,
            "width": null
          }
        },
        "81a684bc56744206932ffacee1073e41": {
          "model_module": "@jupyter-widgets/controls",
          "model_name": "ProgressStyleModel",
          "model_module_version": "1.5.0",
          "state": {
            "_model_module": "@jupyter-widgets/controls",
            "_model_module_version": "1.5.0",
            "_model_name": "ProgressStyleModel",
            "_view_count": null,
            "_view_module": "@jupyter-widgets/base",
            "_view_module_version": "1.2.0",
            "_view_name": "StyleView",
            "bar_color": null,
            "description_width": ""
          }
        },
        "4615151a7b9c437396eb4d888a8caaba": {
          "model_module": "@jupyter-widgets/base",
          "model_name": "LayoutModel",
          "model_module_version": "1.2.0",
          "state": {
            "_model_module": "@jupyter-widgets/base",
            "_model_module_version": "1.2.0",
            "_model_name": "LayoutModel",
            "_view_count": null,
            "_view_module": "@jupyter-widgets/base",
            "_view_module_version": "1.2.0",
            "_view_name": "LayoutView",
            "align_content": null,
            "align_items": null,
            "align_self": null,
            "border": null,
            "bottom": null,
            "display": null,
            "flex": null,
            "flex_flow": null,
            "grid_area": null,
            "grid_auto_columns": null,
            "grid_auto_flow": null,
            "grid_auto_rows": null,
            "grid_column": null,
            "grid_gap": null,
            "grid_row": null,
            "grid_template_areas": null,
            "grid_template_columns": null,
            "grid_template_rows": null,
            "height": null,
            "justify_content": null,
            "justify_items": null,
            "left": null,
            "margin": null,
            "max_height": null,
            "max_width": null,
            "min_height": null,
            "min_width": null,
            "object_fit": null,
            "object_position": null,
            "order": null,
            "overflow": null,
            "overflow_x": null,
            "overflow_y": null,
            "padding": null,
            "right": null,
            "top": null,
            "visibility": null,
            "width": null
          }
        },
        "369058f918fb46ada513f11e6df53cad": {
          "model_module": "@jupyter-widgets/controls",
          "model_name": "DescriptionStyleModel",
          "model_module_version": "1.5.0",
          "state": {
            "_model_module": "@jupyter-widgets/controls",
            "_model_module_version": "1.5.0",
            "_model_name": "DescriptionStyleModel",
            "_view_count": null,
            "_view_module": "@jupyter-widgets/base",
            "_view_module_version": "1.2.0",
            "_view_name": "StyleView",
            "description_width": ""
          }
        },
        "19f6dae24e984eb3a7b01c73e9dcf4f0": {
          "model_module": "@jupyter-widgets/controls",
          "model_name": "HBoxModel",
          "model_module_version": "1.5.0",
          "state": {
            "_dom_classes": [],
            "_model_module": "@jupyter-widgets/controls",
            "_model_module_version": "1.5.0",
            "_model_name": "HBoxModel",
            "_view_count": null,
            "_view_module": "@jupyter-widgets/controls",
            "_view_module_version": "1.5.0",
            "_view_name": "HBoxView",
            "box_style": "",
            "children": [
              "IPY_MODEL_78e2714646ff47aebd598c7caf48ff3f",
              "IPY_MODEL_ce0f7908d24a4e019595eaa602c30b70",
              "IPY_MODEL_a5272741018a431d8e705a80e769fda6"
            ],
            "layout": "IPY_MODEL_aecc710de2454e3c9291e218e5cd5eac"
          }
        },
        "78e2714646ff47aebd598c7caf48ff3f": {
          "model_module": "@jupyter-widgets/controls",
          "model_name": "HTMLModel",
          "model_module_version": "1.5.0",
          "state": {
            "_dom_classes": [],
            "_model_module": "@jupyter-widgets/controls",
            "_model_module_version": "1.5.0",
            "_model_name": "HTMLModel",
            "_view_count": null,
            "_view_module": "@jupyter-widgets/controls",
            "_view_module_version": "1.5.0",
            "_view_name": "HTMLView",
            "description": "",
            "description_tooltip": null,
            "layout": "IPY_MODEL_44da61dbd56e40ce944487c19f20db9f",
            "placeholder": "​",
            "style": "IPY_MODEL_eeaa94f7c4e540e992d08f3f996b998b",
            "value": "generation_config.json: 100%"
          }
        },
        "ce0f7908d24a4e019595eaa602c30b70": {
          "model_module": "@jupyter-widgets/controls",
          "model_name": "FloatProgressModel",
          "model_module_version": "1.5.0",
          "state": {
            "_dom_classes": [],
            "_model_module": "@jupyter-widgets/controls",
            "_model_module_version": "1.5.0",
            "_model_name": "FloatProgressModel",
            "_view_count": null,
            "_view_module": "@jupyter-widgets/controls",
            "_view_module_version": "1.5.0",
            "_view_name": "ProgressView",
            "bar_style": "success",
            "description": "",
            "description_tooltip": null,
            "layout": "IPY_MODEL_791db55ed1354570ab1b7f772868ed37",
            "max": 124,
            "min": 0,
            "orientation": "horizontal",
            "style": "IPY_MODEL_fa0de25988514a21bdd3549b96d8b0b6",
            "value": 124
          }
        },
        "a5272741018a431d8e705a80e769fda6": {
          "model_module": "@jupyter-widgets/controls",
          "model_name": "HTMLModel",
          "model_module_version": "1.5.0",
          "state": {
            "_dom_classes": [],
            "_model_module": "@jupyter-widgets/controls",
            "_model_module_version": "1.5.0",
            "_model_name": "HTMLModel",
            "_view_count": null,
            "_view_module": "@jupyter-widgets/controls",
            "_view_module_version": "1.5.0",
            "_view_name": "HTMLView",
            "description": "",
            "description_tooltip": null,
            "layout": "IPY_MODEL_1c54f4f6d2ca484f88ddae90eff0a2f8",
            "placeholder": "​",
            "style": "IPY_MODEL_4eeaa2ce553e47a3af83f3d2eec1cc53",
            "value": " 124/124 [00:00&lt;00:00, 7.10kB/s]"
          }
        },
        "aecc710de2454e3c9291e218e5cd5eac": {
          "model_module": "@jupyter-widgets/base",
          "model_name": "LayoutModel",
          "model_module_version": "1.2.0",
          "state": {
            "_model_module": "@jupyter-widgets/base",
            "_model_module_version": "1.2.0",
            "_model_name": "LayoutModel",
            "_view_count": null,
            "_view_module": "@jupyter-widgets/base",
            "_view_module_version": "1.2.0",
            "_view_name": "LayoutView",
            "align_content": null,
            "align_items": null,
            "align_self": null,
            "border": null,
            "bottom": null,
            "display": null,
            "flex": null,
            "flex_flow": null,
            "grid_area": null,
            "grid_auto_columns": null,
            "grid_auto_flow": null,
            "grid_auto_rows": null,
            "grid_column": null,
            "grid_gap": null,
            "grid_row": null,
            "grid_template_areas": null,
            "grid_template_columns": null,
            "grid_template_rows": null,
            "height": null,
            "justify_content": null,
            "justify_items": null,
            "left": null,
            "margin": null,
            "max_height": null,
            "max_width": null,
            "min_height": null,
            "min_width": null,
            "object_fit": null,
            "object_position": null,
            "order": null,
            "overflow": null,
            "overflow_x": null,
            "overflow_y": null,
            "padding": null,
            "right": null,
            "top": null,
            "visibility": null,
            "width": null
          }
        },
        "44da61dbd56e40ce944487c19f20db9f": {
          "model_module": "@jupyter-widgets/base",
          "model_name": "LayoutModel",
          "model_module_version": "1.2.0",
          "state": {
            "_model_module": "@jupyter-widgets/base",
            "_model_module_version": "1.2.0",
            "_model_name": "LayoutModel",
            "_view_count": null,
            "_view_module": "@jupyter-widgets/base",
            "_view_module_version": "1.2.0",
            "_view_name": "LayoutView",
            "align_content": null,
            "align_items": null,
            "align_self": null,
            "border": null,
            "bottom": null,
            "display": null,
            "flex": null,
            "flex_flow": null,
            "grid_area": null,
            "grid_auto_columns": null,
            "grid_auto_flow": null,
            "grid_auto_rows": null,
            "grid_column": null,
            "grid_gap": null,
            "grid_row": null,
            "grid_template_areas": null,
            "grid_template_columns": null,
            "grid_template_rows": null,
            "height": null,
            "justify_content": null,
            "justify_items": null,
            "left": null,
            "margin": null,
            "max_height": null,
            "max_width": null,
            "min_height": null,
            "min_width": null,
            "object_fit": null,
            "object_position": null,
            "order": null,
            "overflow": null,
            "overflow_x": null,
            "overflow_y": null,
            "padding": null,
            "right": null,
            "top": null,
            "visibility": null,
            "width": null
          }
        },
        "eeaa94f7c4e540e992d08f3f996b998b": {
          "model_module": "@jupyter-widgets/controls",
          "model_name": "DescriptionStyleModel",
          "model_module_version": "1.5.0",
          "state": {
            "_model_module": "@jupyter-widgets/controls",
            "_model_module_version": "1.5.0",
            "_model_name": "DescriptionStyleModel",
            "_view_count": null,
            "_view_module": "@jupyter-widgets/base",
            "_view_module_version": "1.2.0",
            "_view_name": "StyleView",
            "description_width": ""
          }
        },
        "791db55ed1354570ab1b7f772868ed37": {
          "model_module": "@jupyter-widgets/base",
          "model_name": "LayoutModel",
          "model_module_version": "1.2.0",
          "state": {
            "_model_module": "@jupyter-widgets/base",
            "_model_module_version": "1.2.0",
            "_model_name": "LayoutModel",
            "_view_count": null,
            "_view_module": "@jupyter-widgets/base",
            "_view_module_version": "1.2.0",
            "_view_name": "LayoutView",
            "align_content": null,
            "align_items": null,
            "align_self": null,
            "border": null,
            "bottom": null,
            "display": null,
            "flex": null,
            "flex_flow": null,
            "grid_area": null,
            "grid_auto_columns": null,
            "grid_auto_flow": null,
            "grid_auto_rows": null,
            "grid_column": null,
            "grid_gap": null,
            "grid_row": null,
            "grid_template_areas": null,
            "grid_template_columns": null,
            "grid_template_rows": null,
            "height": null,
            "justify_content": null,
            "justify_items": null,
            "left": null,
            "margin": null,
            "max_height": null,
            "max_width": null,
            "min_height": null,
            "min_width": null,
            "object_fit": null,
            "object_position": null,
            "order": null,
            "overflow": null,
            "overflow_x": null,
            "overflow_y": null,
            "padding": null,
            "right": null,
            "top": null,
            "visibility": null,
            "width": null
          }
        },
        "fa0de25988514a21bdd3549b96d8b0b6": {
          "model_module": "@jupyter-widgets/controls",
          "model_name": "ProgressStyleModel",
          "model_module_version": "1.5.0",
          "state": {
            "_model_module": "@jupyter-widgets/controls",
            "_model_module_version": "1.5.0",
            "_model_name": "ProgressStyleModel",
            "_view_count": null,
            "_view_module": "@jupyter-widgets/base",
            "_view_module_version": "1.2.0",
            "_view_name": "StyleView",
            "bar_color": null,
            "description_width": ""
          }
        },
        "1c54f4f6d2ca484f88ddae90eff0a2f8": {
          "model_module": "@jupyter-widgets/base",
          "model_name": "LayoutModel",
          "model_module_version": "1.2.0",
          "state": {
            "_model_module": "@jupyter-widgets/base",
            "_model_module_version": "1.2.0",
            "_model_name": "LayoutModel",
            "_view_count": null,
            "_view_module": "@jupyter-widgets/base",
            "_view_module_version": "1.2.0",
            "_view_name": "LayoutView",
            "align_content": null,
            "align_items": null,
            "align_self": null,
            "border": null,
            "bottom": null,
            "display": null,
            "flex": null,
            "flex_flow": null,
            "grid_area": null,
            "grid_auto_columns": null,
            "grid_auto_flow": null,
            "grid_auto_rows": null,
            "grid_column": null,
            "grid_gap": null,
            "grid_row": null,
            "grid_template_areas": null,
            "grid_template_columns": null,
            "grid_template_rows": null,
            "height": null,
            "justify_content": null,
            "justify_items": null,
            "left": null,
            "margin": null,
            "max_height": null,
            "max_width": null,
            "min_height": null,
            "min_width": null,
            "object_fit": null,
            "object_position": null,
            "order": null,
            "overflow": null,
            "overflow_x": null,
            "overflow_y": null,
            "padding": null,
            "right": null,
            "top": null,
            "visibility": null,
            "width": null
          }
        },
        "4eeaa2ce553e47a3af83f3d2eec1cc53": {
          "model_module": "@jupyter-widgets/controls",
          "model_name": "DescriptionStyleModel",
          "model_module_version": "1.5.0",
          "state": {
            "_model_module": "@jupyter-widgets/controls",
            "_model_module_version": "1.5.0",
            "_model_name": "DescriptionStyleModel",
            "_view_count": null,
            "_view_module": "@jupyter-widgets/base",
            "_view_module_version": "1.2.0",
            "_view_name": "StyleView",
            "description_width": ""
          }
        }
      }
    }
  },
  "cells": [
    {
      "cell_type": "markdown",
      "source": [
        "### Learnings\n",
        "- collate function\n",
        "- masking only target's padding tokens to ensure they are ignored during loss computation\n",
        "\n",
        "\n",
        "#### torch\n",
        "- torch.nonzero().squeeze()\n",
        "- torch.numel()\n",
        "- the default setting in `cross_entropy` by torch is ignore_index=100, that's why, it ignores this label while calculating the loss"
      ],
      "metadata": {
        "id": "2aILYFhUwsh_"
      }
    },
    {
      "cell_type": "code",
      "source": [
        "!pip3 install tiktoken"
      ],
      "metadata": {
        "colab": {
          "base_uri": "https://localhost:8080/"
        },
        "id": "sg3iXirM5Cef",
        "outputId": "6dec938b-30ef-46bc-a74d-48e0bde54fa4"
      },
      "execution_count": 1,
      "outputs": [
        {
          "output_type": "stream",
          "name": "stdout",
          "text": [
            "Collecting tiktoken\n",
            "  Downloading tiktoken-0.8.0-cp310-cp310-manylinux_2_17_x86_64.manylinux2014_x86_64.whl.metadata (6.6 kB)\n",
            "Requirement already satisfied: regex>=2022.1.18 in /usr/local/lib/python3.10/dist-packages (from tiktoken) (2024.11.6)\n",
            "Requirement already satisfied: requests>=2.26.0 in /usr/local/lib/python3.10/dist-packages (from tiktoken) (2.32.3)\n",
            "Requirement already satisfied: charset-normalizer<4,>=2 in /usr/local/lib/python3.10/dist-packages (from requests>=2.26.0->tiktoken) (3.4.0)\n",
            "Requirement already satisfied: idna<4,>=2.5 in /usr/local/lib/python3.10/dist-packages (from requests>=2.26.0->tiktoken) (3.10)\n",
            "Requirement already satisfied: urllib3<3,>=1.21.1 in /usr/local/lib/python3.10/dist-packages (from requests>=2.26.0->tiktoken) (2.2.3)\n",
            "Requirement already satisfied: certifi>=2017.4.17 in /usr/local/lib/python3.10/dist-packages (from requests>=2.26.0->tiktoken) (2024.12.14)\n",
            "Downloading tiktoken-0.8.0-cp310-cp310-manylinux_2_17_x86_64.manylinux2014_x86_64.whl (1.2 MB)\n",
            "\u001b[2K   \u001b[90m━━━━━━━━━━━━━━━━━━━━━━━━━━━━━━━━━━━━━━━━\u001b[0m \u001b[32m1.2/1.2 MB\u001b[0m \u001b[31m19.6 MB/s\u001b[0m eta \u001b[36m0:00:00\u001b[0m\n",
            "\u001b[?25hInstalling collected packages: tiktoken\n",
            "Successfully installed tiktoken-0.8.0\n"
          ]
        }
      ]
    },
    {
      "cell_type": "code",
      "execution_count": 2,
      "metadata": {
        "colab": {
          "base_uri": "https://localhost:8080/"
        },
        "id": "WwxI_EsGdTvJ",
        "outputId": "55660ad6-66c2-41ff-a328-3e13fac622dc"
      },
      "outputs": [
        {
          "output_type": "stream",
          "name": "stdout",
          "text": [
            "dataset downloaded and saved\n",
            "number of entries 1100\n",
            "Example entry {'instruction': 'What is the contraction for \"will not\"?', 'input': '', 'output': 'The contraction for \"will not\" is \"won\\'t\".'}\n"
          ]
        }
      ],
      "source": [
        "from urllib.request import urlretrieve\n",
        "import os\n",
        "import json\n",
        "def download_save_dataset(url,file_path):\n",
        "  if not os.path.exists('./data'):\n",
        "    os.makedirs('./data')\n",
        "    urlretrieve(url,file_path)\n",
        "    print('dataset downloaded and saved')\n",
        "\n",
        "\n",
        "\n",
        "file_path = \"./data/instruction-data.json\"\n",
        "url = (\n",
        "    \"https://raw.githubusercontent.com/rasbt/LLMs-from-scratch\"\n",
        "    \"/main/ch07/01_main-chapter-code/instruction-data.json\"\n",
        ")\n",
        "\n",
        "download_save_dataset(url,file_path)\n",
        "\n",
        "def load_file(file_path):\n",
        "  with open(file_path,\"r\") as file:\n",
        "    data=json.load(file)\n",
        "  return data\n",
        "\n",
        "data=load_file(file_path=file_path)\n",
        "print(f\"number of entries {len(data)}\")\n",
        "print(f\"Example entry {data[10]}\")\n",
        "\n"
      ]
    },
    {
      "cell_type": "markdown",
      "source": [
        "### Alpaca style input format"
      ],
      "metadata": {
        "id": "KBPhh0hdfnio"
      }
    },
    {
      "cell_type": "code",
      "source": [
        "def format_input(entry):\n",
        "    instruction_text = (\n",
        "        f\"Below is an instruction that describes a task. \"\n",
        "        f\"Write a response that appropriately completes the request.\"\n",
        "        f\"\\n \\n### Instruction:\\n{entry['instruction']}\"\n",
        ")\n",
        "    input_text = (\n",
        "        f\"\\n \\n### Input:\\n{entry['input']}\" if entry[\"input\"] else \"\"\n",
        "    )\n",
        "    return instruction_text + input_text"
      ],
      "metadata": {
        "id": "fJQgehVWtPdT"
      },
      "execution_count": 3,
      "outputs": []
    },
    {
      "cell_type": "code",
      "source": [
        "model_input=format_input(data[10])\n",
        "desired_response=f\"\\n \\n### Response:\\n{data[10]['output']}\"\n",
        "\n",
        "print(model_input + desired_response)"
      ],
      "metadata": {
        "colab": {
          "base_uri": "https://localhost:8080/"
        },
        "id": "DKx4rJtfuThU",
        "outputId": "d62734f8-d2b0-4f63-fe24-41cacf520df1"
      },
      "execution_count": 4,
      "outputs": [
        {
          "output_type": "stream",
          "name": "stdout",
          "text": [
            "Below is an instruction that describes a task. Write a response that appropriately completes the request.\n",
            " \n",
            "### Instruction:\n",
            "What is the contraction for \"will not\"?\n",
            " \n",
            "### Response:\n",
            "The contraction for \"will not\" is \"won't\".\n"
          ]
        }
      ]
    },
    {
      "cell_type": "code",
      "source": [
        "model_input = format_input(data[999])\n",
        "desired_response = f\"\\n \\n### Response:\\n{data[999]['output']}\"\n",
        "print(model_input + desired_response)"
      ],
      "metadata": {
        "colab": {
          "base_uri": "https://localhost:8080/"
        },
        "id": "j3fKh9J5uugl",
        "outputId": "456e2d60-0a62-429c-c1e1-15e1e902eb37"
      },
      "execution_count": 5,
      "outputs": [
        {
          "output_type": "stream",
          "name": "stdout",
          "text": [
            "Below is an instruction that describes a task. Write a response that appropriately completes the request.\n",
            " \n",
            "### Instruction:\n",
            "What is an antonym of 'complicated'?\n",
            " \n",
            "### Response:\n",
            "An antonym of 'complicated' is 'simple'.\n"
          ]
        }
      ]
    },
    {
      "cell_type": "code",
      "source": [
        "train_ratio=int(0.85*len(data))\n",
        "test_ratio=int(len(data)*0.1)\n",
        "val_ratio=len(data) - train_ratio - test_ratio\n",
        "\n",
        "train_data=data[:train_ratio]\n",
        "val_data=data[train_ratio + test_ratio:]\n",
        "test_data=data[train_ratio:train_ratio + test_ratio]\n",
        "\n",
        "print(\"trainining data\", len(train_data))\n",
        "print(\"val data\", len(val_data))\n",
        "print(\"test data\", len(test_data))\n",
        "\n"
      ],
      "metadata": {
        "colab": {
          "base_uri": "https://localhost:8080/"
        },
        "id": "igcg8YQvvfLc",
        "outputId": "552a00df-a665-44d5-805f-be8d4c7269f5"
      },
      "execution_count": 6,
      "outputs": [
        {
          "output_type": "stream",
          "name": "stdout",
          "text": [
            "trainining data 935\n",
            "val data 55\n",
            "test data 110\n"
          ]
        }
      ]
    },
    {
      "cell_type": "code",
      "source": [
        "import torch\n",
        "from torch.utils.data import Dataset\n",
        "\n",
        "class InstructionDataset(Dataset):\n",
        "\n",
        "    def __init__(self, data, tokenizer):\n",
        "        self.data = data\n",
        "        self.encoded_texts = []\n",
        "\n",
        "        for entry in self.data:\n",
        "            instruction_plus_input = format_input(entry)\n",
        "            response_text = f\"\\n \\n### Response:\\n{entry['output']}\"\n",
        "            full_text = instruction_plus_input + response_text\n",
        "            self.encoded_texts.append(tokenizer.encode(full_text))  # [[],[],[]...]\n",
        "\n",
        "    def __getitem__(self, index):\n",
        "        # Return the encoded text instead of the dictionary\n",
        "        return self.encoded_texts[index]\n",
        "\n",
        "    def __len__(self):\n",
        "        return len(self.data)"
      ],
      "metadata": {
        "id": "a7mQybAYzK4v"
      },
      "execution_count": 7,
      "outputs": []
    },
    {
      "cell_type": "code",
      "source": [
        "import tiktoken\n",
        "tokenizer = tiktoken.get_encoding(\"gpt2\")\n",
        "print(tokenizer.encode(\"<|endoftext|>\", allowed_special={\"<|endoftext|>\"}))"
      ],
      "metadata": {
        "colab": {
          "base_uri": "https://localhost:8080/"
        },
        "id": "wQ62SJc73gMC",
        "outputId": "add44b52-8daf-407e-90d1-3291e2db2be0"
      },
      "execution_count": 8,
      "outputs": [
        {
          "output_type": "stream",
          "name": "stdout",
          "text": [
            "[50256]\n"
          ]
        }
      ]
    },
    {
      "cell_type": "markdown",
      "source": [
        "`collate_function` - to make sure each seq within a batch has uniform length, whilst 2 differnt batches can have different lengths"
      ],
      "metadata": {
        "id": "XYVY2bFz5BgJ"
      }
    },
    {
      "cell_type": "code",
      "source": [
        "torch.numel(torch.nonzero(torch.tensor([1,2,3,0,4])).squeeze())"
      ],
      "metadata": {
        "colab": {
          "base_uri": "https://localhost:8080/"
        },
        "id": "7JvY1HQlyfmA",
        "outputId": "ba354e9c-3df7-46b9-88b6-5e34279d0fb5"
      },
      "execution_count": 9,
      "outputs": [
        {
          "output_type": "execute_result",
          "data": {
            "text/plain": [
              "4"
            ]
          },
          "metadata": {},
          "execution_count": 9
        }
      ]
    },
    {
      "cell_type": "code",
      "source": [
        "def custom_collate_fn(batch,pad_token_id=50256,device=\"cpu\",ignore_index=-100,allowed_max_length=None):\n",
        "  batch_max_length=max(len(seq)+1 for seq in batch) # add +1 to account for the end_of_sequence(padding) id\n",
        "\n",
        "  inputs_list,targets_list=[],[]\n",
        "\n",
        "  for item in batch:\n",
        "    new_item=item.copy()\n",
        "    new_item= new_item + [pad_token_id]\n",
        "\n",
        "    padded=(new_item + [pad_token_id]*(batch_max_length-len(new_item)))\n",
        "\n",
        "    inputs=torch.tensor(padded[:-1])\n",
        "    targets=torch.tensor(padded[1:])\n",
        "\n",
        "    #mask padding tokens in the target to ensure they are ignored during loss computation\n",
        "    mask= targets==pad_token_id\n",
        "    indices=torch.nonzero(mask).squeeze()\n",
        "    if indices.numel() > 1:\n",
        "      targets[indices[1:]]=ignore_index\n",
        "\n",
        "    if allowed_max_length is not None:\n",
        "      inputs=inputs[:allowed_max_length]\n",
        "      targets=targets[:allowed_max_length]\n",
        "\n",
        "    inputs_list.append(inputs)\n",
        "    targets_list.append(targets)\n",
        "  inputs_tensor = torch.stack(inputs_list).to(device)\n",
        "  targets_tensor = torch.stack(targets_list).to(device)\n",
        "  return inputs_tensor, targets_tensor\n"
      ],
      "metadata": {
        "id": "70o5Qx6ILY_S"
      },
      "execution_count": 10,
      "outputs": []
    },
    {
      "cell_type": "code",
      "source": [
        "inputs_1 = [0, 1, 2, 3, 4]\n",
        "inputs_2 = [5, 6]\n",
        "inputs_3 = [7, 8, 9]\n",
        "batch = (\n",
        "    inputs_1,\n",
        "    inputs_2,\n",
        "    inputs_3\n",
        ")\n",
        "inputs, targets = custom_collate_fn(batch)\n",
        "print(inputs)\n",
        "print(targets)"
      ],
      "metadata": {
        "colab": {
          "base_uri": "https://localhost:8080/"
        },
        "id": "MSB_rTO0XkSW",
        "outputId": "4a9dcf3c-2426-4fdb-ae70-512ef411070c"
      },
      "execution_count": 11,
      "outputs": [
        {
          "output_type": "stream",
          "name": "stdout",
          "text": [
            "tensor([[    0,     1,     2,     3,     4],\n",
            "        [    5,     6, 50256, 50256, 50256],\n",
            "        [    7,     8,     9, 50256, 50256]])\n",
            "tensor([[    1,     2,     3,     4, 50256],\n",
            "        [    6, 50256,  -100,  -100,  -100],\n",
            "        [    8,     9, 50256,  -100,  -100]])\n"
          ]
        }
      ]
    },
    {
      "cell_type": "code",
      "source": [
        "device = torch.device(\"cuda\" if torch.cuda.is_available() else \"cpu\")\n",
        "if torch.backends.mps.is_available():\n",
        "    device = torch.device(\"mps\")\n",
        "print(\"Device:\", device)"
      ],
      "metadata": {
        "colab": {
          "base_uri": "https://localhost:8080/"
        },
        "id": "g3Mq5GMTXqop",
        "outputId": "33a2d3f6-1e56-4efc-bad0-8475842ad331"
      },
      "execution_count": 12,
      "outputs": [
        {
          "output_type": "stream",
          "name": "stdout",
          "text": [
            "Device: cuda\n"
          ]
        }
      ]
    },
    {
      "cell_type": "code",
      "source": [
        "from functools import partial\n",
        "customized_collate_fn = partial(\n",
        "    custom_collate_fn,\n",
        "    device=device,\n",
        "    allowed_max_length=1024\n",
        ")"
      ],
      "metadata": {
        "id": "OjKv_lJFZ0G2"
      },
      "execution_count": 13,
      "outputs": []
    },
    {
      "cell_type": "code",
      "source": [
        "from torch.utils.data import DataLoader\n",
        "\n",
        "num_workers=0\n",
        "batch_size=8\n",
        "\n",
        "torch.manual_seed(42)\n",
        "train_dataset= InstructionDataset(train_data, tokenizer)\n",
        "val_dataset= InstructionDataset(val_data, tokenizer)\n",
        "test_dataset= InstructionDataset(test_data, tokenizer)\n",
        "\n",
        "train_loader=DataLoader(train_dataset,batch_size=batch_size,num_workers=num_workers,shuffle=True,collate_fn=customized_collate_fn,drop_last=True)\n",
        "val_loader=DataLoader(val_dataset,batch_size=batch_size,num_workers=num_workers,shuffle=False,collate_fn=customized_collate_fn,drop_last=False)\n",
        "test_loader=DataLoader(test_dataset,batch_size=batch_size,num_workers=num_workers,shuffle=False,collate_fn=customized_collate_fn,drop_last=False)"
      ],
      "metadata": {
        "id": "wcxJEpeJjgU2"
      },
      "execution_count": 14,
      "outputs": []
    },
    {
      "cell_type": "code",
      "source": [
        "print(\"train loader\")\n",
        "print(len(train_loader))\n",
        "\n",
        "for inputs,targets in train_loader:\n",
        "  break\n",
        "print(inputs.shape)\n",
        "print(targets.shape)"
      ],
      "metadata": {
        "colab": {
          "base_uri": "https://localhost:8080/"
        },
        "id": "3Qp8drPXBH9W",
        "outputId": "ba1a0656-c818-4131-9b7a-3d1201e2ac6e"
      },
      "execution_count": 15,
      "outputs": [
        {
          "output_type": "stream",
          "name": "stdout",
          "text": [
            "train loader\n",
            "116\n",
            "torch.Size([8, 65])\n",
            "torch.Size([8, 65])\n"
          ]
        }
      ]
    },
    {
      "cell_type": "code",
      "source": [
        "from transformers import GPT2LMHeadModel\n",
        "\n",
        "model=GPT2LMHeadModel.from_pretrained(\"openai-community/gpt2\")"
      ],
      "metadata": {
        "colab": {
          "base_uri": "https://localhost:8080/",
          "height": 240,
          "referenced_widgets": [
            "ea33eabc6c724240966ad7e57fda2b5a",
            "64301c08d08348ecb4cb05f25e6960b7",
            "df4ab1479ca14a00b128b77935935a0c",
            "dc582e898b1648c1be2894247a6ba304",
            "d1336c7a19a94f67a119cfda5e260737",
            "102154bc1a2f4771a19fd24e5c465f12",
            "0ff99fc9c8ec41a39f805d43d4720b16",
            "d8fc2165bb26478aab869170880a0348",
            "7c2aa5be124e4bbc89e312c8e277d908",
            "d1a20d01ac8a4923982cf3e246b84c83",
            "5abe2af7f23544d8b078ebebbb714159",
            "526bf0adec7243deb73caeb0f57a9855",
            "93baca124db147219745ddde2054cdf0",
            "9e43d0be857442e29c21c9799ef25365",
            "170c9a4f39b74a8196f897891e69a43c",
            "f8559b880d0746b4aa16d5f03c56cdae",
            "903f61635a374d3d9c706a6aa867623b",
            "6420e02519914eb18d985a25a754d781",
            "38135dbb76964728913aae57b623746b",
            "81a684bc56744206932ffacee1073e41",
            "4615151a7b9c437396eb4d888a8caaba",
            "369058f918fb46ada513f11e6df53cad",
            "19f6dae24e984eb3a7b01c73e9dcf4f0",
            "78e2714646ff47aebd598c7caf48ff3f",
            "ce0f7908d24a4e019595eaa602c30b70",
            "a5272741018a431d8e705a80e769fda6",
            "aecc710de2454e3c9291e218e5cd5eac",
            "44da61dbd56e40ce944487c19f20db9f",
            "eeaa94f7c4e540e992d08f3f996b998b",
            "791db55ed1354570ab1b7f772868ed37",
            "fa0de25988514a21bdd3549b96d8b0b6",
            "1c54f4f6d2ca484f88ddae90eff0a2f8",
            "4eeaa2ce553e47a3af83f3d2eec1cc53"
          ]
        },
        "id": "JvzkoiTWBW9R",
        "outputId": "ae8621de-7160-4ffc-f8d2-49eeaa45b8ba"
      },
      "execution_count": 16,
      "outputs": [
        {
          "output_type": "stream",
          "name": "stderr",
          "text": [
            "/usr/local/lib/python3.10/dist-packages/huggingface_hub/utils/_auth.py:94: UserWarning: \n",
            "The secret `HF_TOKEN` does not exist in your Colab secrets.\n",
            "To authenticate with the Hugging Face Hub, create a token in your settings tab (https://huggingface.co/settings/tokens), set it as secret in your Google Colab and restart your session.\n",
            "You will be able to reuse this secret in all of your notebooks.\n",
            "Please note that authentication is recommended but still optional to access public models or datasets.\n",
            "  warnings.warn(\n"
          ]
        },
        {
          "output_type": "display_data",
          "data": {
            "text/plain": [
              "config.json:   0%|          | 0.00/665 [00:00<?, ?B/s]"
            ],
            "application/vnd.jupyter.widget-view+json": {
              "version_major": 2,
              "version_minor": 0,
              "model_id": "ea33eabc6c724240966ad7e57fda2b5a"
            }
          },
          "metadata": {}
        },
        {
          "output_type": "display_data",
          "data": {
            "text/plain": [
              "model.safetensors:   0%|          | 0.00/548M [00:00<?, ?B/s]"
            ],
            "application/vnd.jupyter.widget-view+json": {
              "version_major": 2,
              "version_minor": 0,
              "model_id": "526bf0adec7243deb73caeb0f57a9855"
            }
          },
          "metadata": {}
        },
        {
          "output_type": "display_data",
          "data": {
            "text/plain": [
              "generation_config.json:   0%|          | 0.00/124 [00:00<?, ?B/s]"
            ],
            "application/vnd.jupyter.widget-view+json": {
              "version_major": 2,
              "version_minor": 0,
              "model_id": "19f6dae24e984eb3a7b01c73e9dcf4f0"
            }
          },
          "metadata": {}
        }
      ]
    },
    {
      "cell_type": "code",
      "source": [
        "def calculate_loss_batch(input_batch,target_batch,model,device=\"cpu\"):\n",
        "  input_batch=input_batch.to(device)\n",
        "  target_batch=target_batch.to(device)\n",
        "  logits=model(input_batch).logits\n",
        "  logits = logits.view(-1, logits.size(-1))  # Reshape to (batch_size * sequence_length, vocab_size)\n",
        "  target_batch = target_batch.view(-1)  # Reshape to (batch_size * sequence_length)\n",
        "\n",
        "\n",
        "  loss=torch.nn.functional.cross_entropy(logits,target_batch)\n",
        "  return loss"
      ],
      "metadata": {
        "id": "7Dl8pPISIDDq"
      },
      "execution_count": 17,
      "outputs": []
    },
    {
      "cell_type": "code",
      "source": [
        "def calculate_loss_loader(data_loader,model,device,num_batches=None):\n",
        "  total_loss=0\n",
        "  if len(data_loader)==0:\n",
        "    return float(\"nan\")\n",
        "  elif num_batches is None:\n",
        "    num_batches=len(data_loader)\n",
        "\n",
        "  else:\n",
        "    num_batches=min(num_batches,len(data_loader))\n",
        "\n",
        "  for i, (input_batch,target_batch) in enumerate(data_loader):\n",
        "\n",
        "    if i < num_batches:\n",
        "      loss=calculate_loss_batch(input_batch,target_batch,model,device)\n",
        "      total_loss+=loss.item()\n",
        "\n",
        "    else:\n",
        "      break\n",
        "\n",
        "  return total_loss / len(data_loader)"
      ],
      "metadata": {
        "id": "yjxOeXlIM_e-"
      },
      "execution_count": 18,
      "outputs": []
    },
    {
      "cell_type": "code",
      "source": [
        "def evaluate_model(model, train_loader, val_loader, device, eval_iter):\n",
        "  model.eval()\n",
        "\n",
        "  with torch.no_grad():\n",
        "    train_loss=calculate_loss_loader(train_loader,model,device,num_batches=eval_iter)\n",
        "    val_loss=calculate_loss_loader(val_loader,model,device,num_batches=eval_iter)\n",
        "\n",
        "  model.train() #put the model in train mode since it has to continue\n",
        "  return train_loss,val_loss\n",
        "\n"
      ],
      "metadata": {
        "id": "srh3eScFGfti"
      },
      "execution_count": 19,
      "outputs": []
    },
    {
      "cell_type": "code",
      "source": [
        "def train_model(model,device,train_loader,val_loader,optimizer,num_epochs,eval_freq,eval_iter,tokenizer):\n",
        "\n",
        "  train_losses,val_losses,track_tokens_seen=[],[],[]\n",
        "  tokens_seen,global_step=0,-1\n",
        "\n",
        "  for epoch in range(num_epochs):\n",
        "    model.train()\n",
        "\n",
        "    for input_batch,target_batch in train_loader:\n",
        "      loss=calculate_loss_batch(input_batch,target_batch,model,device)\n",
        "      optimizer.zero_grad()\n",
        "      loss.backward()\n",
        "\n",
        "      optimizer.step()\n",
        "\n",
        "      tokens_seen+=input_batch.numel()\n",
        "      global_step+=1\n",
        "\n",
        "      if global_step%eval_freq==0:\n",
        "        train_loss,val_loss=evaluate_model( model, train_loader, val_loader, device, eval_iter)\n",
        "\n",
        "        train_losses.append(train_loss)\n",
        "        val_losses.append(val_loss)\n",
        "        track_tokens_seen.append(tokens_seen)\n",
        "        print(f\"Ep {epoch+1} (Step {global_step:06d}): \"\n",
        "                      f\"Train loss {train_loss:.3f}, \"\n",
        "                      f\"Val loss {val_loss:.3f}\"\n",
        ")\n",
        "\n",
        "    return train_losses, val_losses, track_tokens_seen\n",
        "\n"
      ],
      "metadata": {
        "id": "RJxvPfj7GIAH"
      },
      "execution_count": 20,
      "outputs": []
    },
    {
      "cell_type": "markdown",
      "source": [
        "2 loss calulcating functions -\n",
        "1. `calculate_loss_batch` - calcualtes loss for a specific (singular) batch and this loss is .backward()\n",
        "2. `calculate_loss_loader` - makes use of calculate_loss_batch and calculates loss for whole of the data loader\n",
        "\n",
        "In the training function,   \n",
        "- `evaluate_model` - evaluates the model on the whole training_loader & the whole of validation_loader or atleast the number of eval_iter\n",
        "\n",
        "Inside evaluate_model,\n",
        "- since this is run for every single batch, use of `calculate_loss_batch` is done\n"
      ],
      "metadata": {
        "id": "c-o9nAY-JKfA"
      }
    },
    {
      "cell_type": "code",
      "source": [
        "import time\n",
        "\n",
        "model=model.to(device)\n",
        "\n",
        "start_time = time.time()\n",
        "torch.manual_seed(42)\n",
        "\n",
        "optimizer = torch.optim.AdamW(\n",
        "    model.parameters(), lr=0.00005, weight_decay=0.1\n",
        ")\n",
        "num_epochs = 10\n",
        "\n",
        "train_losses, val_losses, tokens_seen = train_model(\n",
        "    model,device, train_loader, val_loader, optimizer,\n",
        "    num_epochs=num_epochs, eval_freq=5, eval_iter=5,\n",
        "    tokenizer=tokenizer\n",
        ")\n",
        "end_time = time.time()\n",
        "execution_time_minutes = (end_time - start_time) / 60\n",
        "print(f\"Training completed in {execution_time_minutes:.2f} minutes.\")"
      ],
      "metadata": {
        "colab": {
          "base_uri": "https://localhost:8080/"
        },
        "id": "tZbZBk49Mu9Z",
        "outputId": "39f18ae2-9617-4ef7-cd05-3fa8777d981e"
      },
      "execution_count": 40,
      "outputs": [
        {
          "output_type": "stream",
          "name": "stdout",
          "text": [
            "Ep 1 (Step 000000): Train loss 0.026, Val loss 0.570\n",
            "Ep 1 (Step 000005): Train loss 0.029, Val loss 0.583\n",
            "Ep 1 (Step 000010): Train loss 0.029, Val loss 0.579\n",
            "Ep 1 (Step 000015): Train loss 0.030, Val loss 0.581\n",
            "Ep 1 (Step 000020): Train loss 0.028, Val loss 0.579\n",
            "Ep 1 (Step 000025): Train loss 0.029, Val loss 0.573\n",
            "Ep 1 (Step 000030): Train loss 0.025, Val loss 0.571\n",
            "Ep 1 (Step 000035): Train loss 0.025, Val loss 0.573\n",
            "Ep 1 (Step 000040): Train loss 0.026, Val loss 0.570\n",
            "Ep 1 (Step 000045): Train loss 0.029, Val loss 0.561\n",
            "Ep 1 (Step 000050): Train loss 0.027, Val loss 0.557\n",
            "Ep 1 (Step 000055): Train loss 0.023, Val loss 0.557\n",
            "Ep 1 (Step 000060): Train loss 0.028, Val loss 0.553\n",
            "Ep 1 (Step 000065): Train loss 0.027, Val loss 0.551\n",
            "Ep 1 (Step 000070): Train loss 0.024, Val loss 0.551\n",
            "Ep 1 (Step 000075): Train loss 0.028, Val loss 0.548\n",
            "Ep 1 (Step 000080): Train loss 0.024, Val loss 0.544\n",
            "Ep 1 (Step 000085): Train loss 0.023, Val loss 0.541\n",
            "Ep 1 (Step 000090): Train loss 0.022, Val loss 0.543\n",
            "Ep 1 (Step 000095): Train loss 0.021, Val loss 0.536\n",
            "Ep 1 (Step 000100): Train loss 0.023, Val loss 0.528\n",
            "Ep 1 (Step 000105): Train loss 0.021, Val loss 0.527\n",
            "Ep 1 (Step 000110): Train loss 0.022, Val loss 0.526\n",
            "Ep 1 (Step 000115): Train loss 0.024, Val loss 0.522\n",
            "Training completed in 0.53 minutes.\n"
          ]
        }
      ]
    },
    {
      "cell_type": "code",
      "source": [
        "def generate(model,idx,max_new_tokens,context_size,temperature=0.0,top_k=None,eos_id=None):\n",
        "  for _ in range(max_new_tokens):\n",
        "    idx_cond=idx[:,-context_size:]\n",
        "\n",
        "    with torch.no_grad():\n",
        "      logits=model(idx_cond).logits\n",
        "    logits = logits[:, -1, :]\n",
        "    if top_k is not None:\n",
        "\n",
        "\n",
        "      top_logits, _ = torch.topk(logits, top_k)\n",
        "      min_val = top_logits[:, -1]\n",
        "      logits = torch.where(\n",
        "          logits < min_val,\n",
        "          torch.tensor(float('-inf')).to(logits.device),\n",
        "          logits\n",
        "      )\n",
        "    if temperature > 0.0:\n",
        "        logits = logits / temperature\n",
        "        probs = torch.softmax(logits, dim=-1)\n",
        "        idx_next = torch.multinomial(probs, num_samples=1)\n",
        "    else:\n",
        "        idx_next = torch.argmax(logits, dim=-1, keepdim=True)\n",
        "    if idx_next == eos_id:\n",
        "        break\n",
        "    idx = torch.cat((idx, idx_next), dim=1)\n",
        "  return idx"
      ],
      "metadata": {
        "id": "zAV8rEVWQ5-i"
      },
      "execution_count": 41,
      "outputs": []
    },
    {
      "cell_type": "code",
      "source": [
        "def text_to_token_ids(text, tokenizer):\n",
        "    encoded = tokenizer.encode(text, allowed_special={'<|endoftext|>'})\n",
        "    encoded_tensor = torch.tensor(encoded).unsqueeze(0)    #1\n",
        "    return encoded_tensor"
      ],
      "metadata": {
        "id": "nqKuzP7IXCJB"
      },
      "execution_count": 42,
      "outputs": []
    },
    {
      "cell_type": "code",
      "source": [
        "def token_ids_to_text(token_ids, tokenizer):\n",
        "    flat = token_ids.squeeze(0)\n",
        "    return tokenizer.decode(flat.tolist())"
      ],
      "metadata": {
        "id": "o1RbP05GWWHY"
      },
      "execution_count": 43,
      "outputs": []
    },
    {
      "cell_type": "code",
      "source": [
        "torch.manual_seed(123)\n",
        "for entry in test_data[:3]:\n",
        "    input_text = format_input(entry)\n",
        "    token_ids = generate(\n",
        "        model=model,\n",
        "        idx=text_to_token_ids(input_text, tokenizer).to(device),\n",
        "        max_new_tokens=256,\n",
        "        context_size=1024,\n",
        "        eos_id=50256\n",
        "    )\n",
        "    generated_text = token_ids_to_text(token_ids, tokenizer)\n",
        "    response_text = (\n",
        "        generated_text[len(input_text):]\n",
        "        .replace(\"### Response:\", \"\")\n",
        "        .strip()\n",
        "    )\n",
        "    print(input_text)\n",
        "    print(f\"\\nCorrect response:\\\\n>> {entry['output']}\")\n",
        "    print(f\"\\nModel response:\\\\n>> {response_text.strip()}\")\n",
        "    print(\"-------------------------------------\")"
      ],
      "metadata": {
        "colab": {
          "base_uri": "https://localhost:8080/"
        },
        "id": "nGrIkKevWohj",
        "outputId": "4a62935c-0859-43bd-8255-19280dd6a009"
      },
      "execution_count": 44,
      "outputs": [
        {
          "output_type": "stream",
          "name": "stdout",
          "text": [
            "Below is an instruction that describes a task. Write a response that appropriately completes the request.\n",
            " \n",
            "### Instruction:\n",
            "Rewrite the sentence using a simile.\n",
            " \n",
            "### Input:\n",
            "The car is very fast.\n",
            "\n",
            "Correct response:\\n>> The car is as fast as lightning.\n",
            "\n",
            "Model response:\\n>> The car is so fast that it can travel at a very fast speed.\n",
            "-------------------------------------\n",
            "Below is an instruction that describes a task. Write a response that appropriately completes the request.\n",
            " \n",
            "### Instruction:\n",
            "What type of cloud is typically associated with thunderstorms?\n",
            "\n",
            "Correct response:\\n>> The type of cloud typically associated with thunderstorms is cumulonimbus.\n",
            "\n",
            "Model response:\\n>> The type of cloud is a cloud of clouds.\n",
            "-------------------------------------\n",
            "Below is an instruction that describes a task. Write a response that appropriately completes the request.\n",
            " \n",
            "### Instruction:\n",
            "Name the author of 'Pride and Prejudice'.\n",
            "\n",
            "Correct response:\\n>> Jane Austen.\n",
            "\n",
            "Model response:\\n>> The author of 'Pride and Prejudice' is Robert Frost.\n",
            "-------------------------------------\n"
          ]
        }
      ]
    }
  ]
}